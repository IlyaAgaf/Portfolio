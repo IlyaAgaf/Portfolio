{
 "cells": [
  {
   "cell_type": "markdown",
   "metadata": {},
   "source": [
    "#  Прогнозирование заказов такси"
   ]
  },
  {
   "cell_type": "markdown",
   "metadata": {},
   "source": [
    "## Постановка задачи"
   ]
  },
  {
   "cell_type": "markdown",
   "metadata": {},
   "source": [
    "Заказчиком является таксопарк, которая хочет, чтобы на основе их исторических данных о заказах такси в аэропортах обучили модель, которая бы прогнозировала количество заказов такси на следующий час.\n",
    "Проверка модели должна осуществлятся на метрике RMSE. На тестовой выборке данная метрика должна быть не больше 48."
   ]
  },
  {
   "cell_type": "markdown",
   "metadata": {},
   "source": [
    "## Описание данных"
   ]
  },
  {
   "cell_type": "markdown",
   "metadata": {},
   "source": [
    "- **taxi.csv** - данные, хронящие в себе колличество заказов"
   ]
  },
  {
   "cell_type": "markdown",
   "metadata": {},
   "source": [
    "## План работы"
   ]
  },
  {
   "cell_type": "markdown",
   "metadata": {},
   "source": [
    "**1) Подготовка**\n",
    "\n",
    "- Установить индекс таблицы равным столбцу, содержащем в себе временные отрезки\n",
    "- Узнать рамер данных\n",
    "- Провести ресемплирование\n",
    "\n",
    "**2) Анализ**\n",
    "\n",
    "- Изучить распределение заказов на всем временном промежутке\n",
    "- Добавить и изучить скользящее среднее и стандартное отклонение\n",
    "- Разложить кол-во заказов на три составляющие: тренд, сезонность и остаток и изучить их\n",
    "\n",
    "**3)Обучение моделей**\n",
    "\n",
    "- "
   ]
  },
  {
   "cell_type": "markdown",
   "metadata": {},
   "source": [
    "## 1 Подготовка"
   ]
  },
  {
   "cell_type": "code",
   "execution_count": 1,
   "metadata": {},
   "outputs": [],
   "source": [
    "import pandas as pd\n",
    "from sklearn.model_selection import train_test_split\n",
    "import matplotlib.pyplot as plt\n",
    "from statsmodels.tsa.seasonal import seasonal_decompose\n",
    "from sklearn.metrics import mean_squared_error\n",
    "from catboost import CatBoostRegressor\n",
    "from lightgbm import LGBMRegressor\n",
    "from sklearn.experimental import enable_halving_search_cv\n",
    "from sklearn.model_selection import GridSearchCV, HalvingGridSearchCV, TimeSeriesSplit\n",
    "from sklearn.preprocessing import StandardScaler\n",
    "from sklearn.dummy import DummyRegressor\n",
    "import numpy as np"
   ]
  },
  {
   "cell_type": "code",
   "execution_count": 2,
   "metadata": {},
   "outputs": [],
   "source": [
    "data = pd.read_csv(r'C:\\Users\\Илья\\Downloads\\taxi.csv', index_col=[0], parse_dates=[0])\n",
    "data.sort_index(inplace=True)"
   ]
  },
  {
   "cell_type": "code",
   "execution_count": 3,
   "metadata": {},
   "outputs": [
    {
     "name": "stdout",
     "output_type": "stream",
     "text": [
      "<class 'pandas.core.frame.DataFrame'>\n",
      "DatetimeIndex: 26496 entries, 2018-03-01 00:00:00 to 2018-08-31 23:50:00\n",
      "Data columns (total 1 columns):\n",
      " #   Column      Non-Null Count  Dtype\n",
      "---  ------      --------------  -----\n",
      " 0   num_orders  26496 non-null  int64\n",
      "dtypes: int64(1)\n",
      "memory usage: 414.0 KB\n"
     ]
    }
   ],
   "source": [
    "data.info()"
   ]
  },
  {
   "cell_type": "code",
   "execution_count": 4,
   "metadata": {},
   "outputs": [
    {
     "data": {
      "text/plain": [
       "True"
      ]
     },
     "execution_count": 4,
     "metadata": {},
     "output_type": "execute_result"
    }
   ],
   "source": [
    "data.index.is_monotonic_increasing"
   ]
  },
  {
   "cell_type": "code",
   "execution_count": 5,
   "metadata": {},
   "outputs": [],
   "source": [
    "data = data.resample('1H').sum()"
   ]
  },
  {
   "cell_type": "code",
   "execution_count": 6,
   "metadata": {},
   "outputs": [
    {
     "data": {
      "text/plain": [
       "(4416, 1)"
      ]
     },
     "execution_count": 6,
     "metadata": {},
     "output_type": "execute_result"
    }
   ],
   "source": [
    "data.shape"
   ]
  },
  {
   "cell_type": "code",
   "execution_count": 7,
   "metadata": {},
   "outputs": [
    {
     "data": {
      "text/html": [
       "<div>\n",
       "<style scoped>\n",
       "    .dataframe tbody tr th:only-of-type {\n",
       "        vertical-align: middle;\n",
       "    }\n",
       "\n",
       "    .dataframe tbody tr th {\n",
       "        vertical-align: top;\n",
       "    }\n",
       "\n",
       "    .dataframe thead th {\n",
       "        text-align: right;\n",
       "    }\n",
       "</style>\n",
       "<table border=\"1\" class=\"dataframe\">\n",
       "  <thead>\n",
       "    <tr style=\"text-align: right;\">\n",
       "      <th></th>\n",
       "      <th>num_orders</th>\n",
       "    </tr>\n",
       "    <tr>\n",
       "      <th>datetime</th>\n",
       "      <th></th>\n",
       "    </tr>\n",
       "  </thead>\n",
       "  <tbody>\n",
       "    <tr>\n",
       "      <th>2018-03-01 00:00:00</th>\n",
       "      <td>124</td>\n",
       "    </tr>\n",
       "    <tr>\n",
       "      <th>2018-03-01 01:00:00</th>\n",
       "      <td>85</td>\n",
       "    </tr>\n",
       "    <tr>\n",
       "      <th>2018-03-01 02:00:00</th>\n",
       "      <td>71</td>\n",
       "    </tr>\n",
       "    <tr>\n",
       "      <th>2018-03-01 03:00:00</th>\n",
       "      <td>66</td>\n",
       "    </tr>\n",
       "    <tr>\n",
       "      <th>2018-03-01 04:00:00</th>\n",
       "      <td>43</td>\n",
       "    </tr>\n",
       "  </tbody>\n",
       "</table>\n",
       "</div>"
      ],
      "text/plain": [
       "                     num_orders\n",
       "datetime                       \n",
       "2018-03-01 00:00:00         124\n",
       "2018-03-01 01:00:00          85\n",
       "2018-03-01 02:00:00          71\n",
       "2018-03-01 03:00:00          66\n",
       "2018-03-01 04:00:00          43"
      ]
     },
     "execution_count": 7,
     "metadata": {},
     "output_type": "execute_result"
    }
   ],
   "source": [
    "data.head()"
   ]
  },
  {
   "cell_type": "markdown",
   "metadata": {},
   "source": [
    "# Вывод"
   ]
  },
  {
   "cell_type": "markdown",
   "metadata": {},
   "source": [
    "- Размер данных 26496 на 1\n",
    "- Индексы идут попорядку\n",
    "- Была произведена повторная выборка с новым интервалом в 1 час"
   ]
  },
  {
   "cell_type": "markdown",
   "metadata": {},
   "source": [
    "## 2 Анализ"
   ]
  },
  {
   "cell_type": "markdown",
   "metadata": {},
   "source": [
    "Посмотрим распределение заказов на всем отрезке времени, а так же построим графики для скользящего среднего и стандартного отклонения"
   ]
  },
  {
   "cell_type": "code",
   "execution_count": 8,
   "metadata": {
    "scrolled": false
   },
   "outputs": [
    {
     "data": {
      "image/png": "[encoded data removed]",
      "text/plain": [
       "<Figure size 1000x500 with 1 Axes>"
      ]
     },
     "metadata": {},
     "output_type": "display_data"
    }
   ],
   "source": [
    "data.plot(figsize=(10,5))\n",
    "plt.xlabel('Дата')\n",
    "plt.ylabel('Кол-во заказов')\n",
    "plt.title('Распределение заказов на всем временном отрезке');"
   ]
  },
  {
   "cell_type": "code",
   "execution_count": 9,
   "metadata": {},
   "outputs": [],
   "source": [
    "data_ = data.copy()\n",
    "data_['rolling_mean'] = data_['num_orders'].rolling(10).mean()\n",
    "data_['std'] = data_['num_orders'].rolling(10).std()\n",
    "data_ = data_.dropna()"
   ]
  },
  {
   "cell_type": "markdown",
   "metadata": {},
   "source": [
    "Для удобства анализа скопировали данные"
   ]
  },
  {
   "cell_type": "code",
   "execution_count": 10,
   "metadata": {},
   "outputs": [
    {
     "data": {
      "image/png": "[encoded data removed]",
      "text/plain": [
       "<Figure size 1000x500 with 1 Axes>"
      ]
     },
     "metadata": {},
     "output_type": "display_data"
    }
   ],
   "source": [
    "data_.plot(figsize=(10,5))\n",
    "plt.xlabel('Дата')\n",
    "plt.ylabel('Кол-во заказов')\n",
    "plt.title('Распределение заказов на всем временном отрезке');"
   ]
  },
  {
   "cell_type": "code",
   "execution_count": 11,
   "metadata": {},
   "outputs": [
    {
     "data": {
      "text/html": [
       "<div>\n",
       "<style scoped>\n",
       "    .dataframe tbody tr th:only-of-type {\n",
       "        vertical-align: middle;\n",
       "    }\n",
       "\n",
       "    .dataframe tbody tr th {\n",
       "        vertical-align: top;\n",
       "    }\n",
       "\n",
       "    .dataframe thead th {\n",
       "        text-align: right;\n",
       "    }\n",
       "</style>\n",
       "<table border=\"1\" class=\"dataframe\">\n",
       "  <thead>\n",
       "    <tr style=\"text-align: right;\">\n",
       "      <th></th>\n",
       "      <th>num_orders</th>\n",
       "      <th>rolling_mean</th>\n",
       "      <th>std</th>\n",
       "    </tr>\n",
       "    <tr>\n",
       "      <th>datetime</th>\n",
       "      <th></th>\n",
       "      <th></th>\n",
       "      <th></th>\n",
       "    </tr>\n",
       "  </thead>\n",
       "  <tbody>\n",
       "    <tr>\n",
       "      <th>2018-03-01 09:00:00</th>\n",
       "      <td>69</td>\n",
       "      <td>52.5</td>\n",
       "      <td>37.426224</td>\n",
       "    </tr>\n",
       "    <tr>\n",
       "      <th>2018-03-01 10:00:00</th>\n",
       "      <td>64</td>\n",
       "      <td>46.5</td>\n",
       "      <td>28.414589</td>\n",
       "    </tr>\n",
       "    <tr>\n",
       "      <th>2018-03-01 11:00:00</th>\n",
       "      <td>96</td>\n",
       "      <td>47.6</td>\n",
       "      <td>30.225817</td>\n",
       "    </tr>\n",
       "    <tr>\n",
       "      <th>2018-03-01 12:00:00</th>\n",
       "      <td>30</td>\n",
       "      <td>43.5</td>\n",
       "      <td>29.470324</td>\n",
       "    </tr>\n",
       "    <tr>\n",
       "      <th>2018-03-01 13:00:00</th>\n",
       "      <td>32</td>\n",
       "      <td>40.1</td>\n",
       "      <td>28.532438</td>\n",
       "    </tr>\n",
       "  </tbody>\n",
       "</table>\n",
       "</div>"
      ],
      "text/plain": [
       "                     num_orders  rolling_mean        std\n",
       "datetime                                                \n",
       "2018-03-01 09:00:00          69          52.5  37.426224\n",
       "2018-03-01 10:00:00          64          46.5  28.414589\n",
       "2018-03-01 11:00:00          96          47.6  30.225817\n",
       "2018-03-01 12:00:00          30          43.5  29.470324\n",
       "2018-03-01 13:00:00          32          40.1  28.532438"
      ]
     },
     "execution_count": 11,
     "metadata": {},
     "output_type": "execute_result"
    }
   ],
   "source": [
    "data_.head()"
   ]
  },
  {
   "cell_type": "code",
   "execution_count": 12,
   "metadata": {},
   "outputs": [],
   "source": [
    "decomposed = seasonal_decompose(data_['num_orders'])"
   ]
  },
  {
   "cell_type": "code",
   "execution_count": 13,
   "metadata": {},
   "outputs": [
    {
     "data": {
      "image/png": "[encoded data removed]",
      "text/plain": [
       "<Figure size 1500x500 with 1 Axes>"
      ]
     },
     "metadata": {},
     "output_type": "display_data"
    }
   ],
   "source": [
    "decomposed.trend.plot(title='Тренд', figsize=(15,5))\n",
    "plt.xlabel('Дата')\n",
    "plt.ylabel('Кол-во заказов');"
   ]
  },
  {
   "cell_type": "code",
   "execution_count": 14,
   "metadata": {},
   "outputs": [
    {
     "data": {
      "image/png": "[encoded data removed]",
      "text/plain": [
       "<Figure size 1500x500 with 1 Axes>"
      ]
     },
     "metadata": {},
     "output_type": "display_data"
    }
   ],
   "source": [
    "decomposed.resid['2018-03-01':'2018-03-15'].plot(title='Остаток', figsize=(15,5)) \n",
    "plt.xlabel('Временной отрезок с 2018-03-01 по 2018-03-15')\n",
    "plt.ylabel('Кол-во заказов');"
   ]
  },
  {
   "cell_type": "code",
   "execution_count": 15,
   "metadata": {},
   "outputs": [
    {
     "data": {
      "image/png": "[encoded data removed]",
      "text/plain": [
       "<Figure size 1500x500 with 1 Axes>"
      ]
     },
     "metadata": {},
     "output_type": "display_data"
    }
   ],
   "source": [
    "decomposed.seasonal['2018-03-01':'2018-03-02'].plot(title='Сезонность', figsize=(15,5))\n",
    "plt.xlabel('Временной отрезок с 2018-03-01 по 2018-03-02')\n",
    "plt.ylabel('Кол-во заказов');"
   ]
  },
  {
   "cell_type": "markdown",
   "metadata": {},
   "source": [
    "# Вывод"
   ]
  },
  {
   "cell_type": "markdown",
   "metadata": {},
   "source": [
    "- Изучив график сезонности можно сказать, что он длится примерно 24 часа\n",
    "- Сделав срез по графику сезоности в течении двух дней, было замечено что пик заказов приходится на 00:00. Скорее всего можно объяснить тем, что к этому времени общественный транспрот уже не ходит и при выборе вариата добраться из одной точки в другую выбирают такси\n",
    "- Наименьше всего такси заказывают в 06:00. Такое колличество можно объяснить тем, что большинство людей спит в это время"
   ]
  },
  {
   "cell_type": "markdown",
   "metadata": {},
   "source": [
    "## 3 Обучение моделей"
   ]
  },
  {
   "cell_type": "markdown",
   "metadata": {},
   "source": [
    "Добавим календарные признаки, а так же вычислим отстающие значения "
   ]
  },
  {
   "cell_type": "code",
   "execution_count": 16,
   "metadata": {},
   "outputs": [],
   "source": [
    "def make_features(data, lag, rolling):\n",
    "    data['hours'] = data.index.hour\n",
    "    data['day'] = data.index.day\n",
    "    data['dayofweek'] = data.index.dayofweek\n",
    "    \n",
    "    for i in range(1, lag + 1):\n",
    "        data['lag_{}'.format(i)] = data['num_orders'].shift(i)\n",
    "\n",
    "    data['rolling_mean'] = data['num_orders'].shift().rolling(rolling).mean()\n",
    "\n",
    "make_features(data, 30, 20)"
   ]
  },
  {
   "cell_type": "code",
   "execution_count": 17,
   "metadata": {},
   "outputs": [
    {
     "data": {
      "text/html": [
       "<div>\n",
       "<style scoped>\n",
       "    .dataframe tbody tr th:only-of-type {\n",
       "        vertical-align: middle;\n",
       "    }\n",
       "\n",
       "    .dataframe tbody tr th {\n",
       "        vertical-align: top;\n",
       "    }\n",
       "\n",
       "    .dataframe thead th {\n",
       "        text-align: right;\n",
       "    }\n",
       "</style>\n",
       "<table border=\"1\" class=\"dataframe\">\n",
       "  <thead>\n",
       "    <tr style=\"text-align: right;\">\n",
       "      <th></th>\n",
       "      <th>num_orders</th>\n",
       "      <th>hours</th>\n",
       "      <th>day</th>\n",
       "      <th>dayofweek</th>\n",
       "      <th>lag_1</th>\n",
       "      <th>lag_2</th>\n",
       "      <th>lag_3</th>\n",
       "      <th>lag_4</th>\n",
       "      <th>lag_5</th>\n",
       "      <th>lag_6</th>\n",
       "      <th>...</th>\n",
       "      <th>lag_22</th>\n",
       "      <th>lag_23</th>\n",
       "      <th>lag_24</th>\n",
       "      <th>lag_25</th>\n",
       "      <th>lag_26</th>\n",
       "      <th>lag_27</th>\n",
       "      <th>lag_28</th>\n",
       "      <th>lag_29</th>\n",
       "      <th>lag_30</th>\n",
       "      <th>rolling_mean</th>\n",
       "    </tr>\n",
       "    <tr>\n",
       "      <th>datetime</th>\n",
       "      <th></th>\n",
       "      <th></th>\n",
       "      <th></th>\n",
       "      <th></th>\n",
       "      <th></th>\n",
       "      <th></th>\n",
       "      <th></th>\n",
       "      <th></th>\n",
       "      <th></th>\n",
       "      <th></th>\n",
       "      <th></th>\n",
       "      <th></th>\n",
       "      <th></th>\n",
       "      <th></th>\n",
       "      <th></th>\n",
       "      <th></th>\n",
       "      <th></th>\n",
       "      <th></th>\n",
       "      <th></th>\n",
       "      <th></th>\n",
       "      <th></th>\n",
       "    </tr>\n",
       "  </thead>\n",
       "  <tbody>\n",
       "    <tr>\n",
       "      <th>2018-03-01 00:00:00</th>\n",
       "      <td>124</td>\n",
       "      <td>0</td>\n",
       "      <td>1</td>\n",
       "      <td>3</td>\n",
       "      <td>NaN</td>\n",
       "      <td>NaN</td>\n",
       "      <td>NaN</td>\n",
       "      <td>NaN</td>\n",
       "      <td>NaN</td>\n",
       "      <td>NaN</td>\n",
       "      <td>...</td>\n",
       "      <td>NaN</td>\n",
       "      <td>NaN</td>\n",
       "      <td>NaN</td>\n",
       "      <td>NaN</td>\n",
       "      <td>NaN</td>\n",
       "      <td>NaN</td>\n",
       "      <td>NaN</td>\n",
       "      <td>NaN</td>\n",
       "      <td>NaN</td>\n",
       "      <td>NaN</td>\n",
       "    </tr>\n",
       "    <tr>\n",
       "      <th>2018-03-01 01:00:00</th>\n",
       "      <td>85</td>\n",
       "      <td>1</td>\n",
       "      <td>1</td>\n",
       "      <td>3</td>\n",
       "      <td>124.0</td>\n",
       "      <td>NaN</td>\n",
       "      <td>NaN</td>\n",
       "      <td>NaN</td>\n",
       "      <td>NaN</td>\n",
       "      <td>NaN</td>\n",
       "      <td>...</td>\n",
       "      <td>NaN</td>\n",
       "      <td>NaN</td>\n",
       "      <td>NaN</td>\n",
       "      <td>NaN</td>\n",
       "      <td>NaN</td>\n",
       "      <td>NaN</td>\n",
       "      <td>NaN</td>\n",
       "      <td>NaN</td>\n",
       "      <td>NaN</td>\n",
       "      <td>NaN</td>\n",
       "    </tr>\n",
       "    <tr>\n",
       "      <th>2018-03-01 02:00:00</th>\n",
       "      <td>71</td>\n",
       "      <td>2</td>\n",
       "      <td>1</td>\n",
       "      <td>3</td>\n",
       "      <td>85.0</td>\n",
       "      <td>124.0</td>\n",
       "      <td>NaN</td>\n",
       "      <td>NaN</td>\n",
       "      <td>NaN</td>\n",
       "      <td>NaN</td>\n",
       "      <td>...</td>\n",
       "      <td>NaN</td>\n",
       "      <td>NaN</td>\n",
       "      <td>NaN</td>\n",
       "      <td>NaN</td>\n",
       "      <td>NaN</td>\n",
       "      <td>NaN</td>\n",
       "      <td>NaN</td>\n",
       "      <td>NaN</td>\n",
       "      <td>NaN</td>\n",
       "      <td>NaN</td>\n",
       "    </tr>\n",
       "    <tr>\n",
       "      <th>2018-03-01 03:00:00</th>\n",
       "      <td>66</td>\n",
       "      <td>3</td>\n",
       "      <td>1</td>\n",
       "      <td>3</td>\n",
       "      <td>71.0</td>\n",
       "      <td>85.0</td>\n",
       "      <td>124.0</td>\n",
       "      <td>NaN</td>\n",
       "      <td>NaN</td>\n",
       "      <td>NaN</td>\n",
       "      <td>...</td>\n",
       "      <td>NaN</td>\n",
       "      <td>NaN</td>\n",
       "      <td>NaN</td>\n",
       "      <td>NaN</td>\n",
       "      <td>NaN</td>\n",
       "      <td>NaN</td>\n",
       "      <td>NaN</td>\n",
       "      <td>NaN</td>\n",
       "      <td>NaN</td>\n",
       "      <td>NaN</td>\n",
       "    </tr>\n",
       "    <tr>\n",
       "      <th>2018-03-01 04:00:00</th>\n",
       "      <td>43</td>\n",
       "      <td>4</td>\n",
       "      <td>1</td>\n",
       "      <td>3</td>\n",
       "      <td>66.0</td>\n",
       "      <td>71.0</td>\n",
       "      <td>85.0</td>\n",
       "      <td>124.0</td>\n",
       "      <td>NaN</td>\n",
       "      <td>NaN</td>\n",
       "      <td>...</td>\n",
       "      <td>NaN</td>\n",
       "      <td>NaN</td>\n",
       "      <td>NaN</td>\n",
       "      <td>NaN</td>\n",
       "      <td>NaN</td>\n",
       "      <td>NaN</td>\n",
       "      <td>NaN</td>\n",
       "      <td>NaN</td>\n",
       "      <td>NaN</td>\n",
       "      <td>NaN</td>\n",
       "    </tr>\n",
       "  </tbody>\n",
       "</table>\n",
       "<p>5 rows × 35 columns</p>\n",
       "</div>"
      ],
      "text/plain": [
       "                     num_orders  hours  day  dayofweek  lag_1  lag_2  lag_3   \n",
       "datetime                                                                      \n",
       "2018-03-01 00:00:00         124      0    1          3    NaN    NaN    NaN  \\\n",
       "2018-03-01 01:00:00          85      1    1          3  124.0    NaN    NaN   \n",
       "2018-03-01 02:00:00          71      2    1          3   85.0  124.0    NaN   \n",
       "2018-03-01 03:00:00          66      3    1          3   71.0   85.0  124.0   \n",
       "2018-03-01 04:00:00          43      4    1          3   66.0   71.0   85.0   \n",
       "\n",
       "                     lag_4  lag_5  lag_6  ...  lag_22  lag_23  lag_24  lag_25   \n",
       "datetime                                  ...                                   \n",
       "2018-03-01 00:00:00    NaN    NaN    NaN  ...     NaN     NaN     NaN     NaN  \\\n",
       "2018-03-01 01:00:00    NaN    NaN    NaN  ...     NaN     NaN     NaN     NaN   \n",
       "2018-03-01 02:00:00    NaN    NaN    NaN  ...     NaN     NaN     NaN     NaN   \n",
       "2018-03-01 03:00:00    NaN    NaN    NaN  ...     NaN     NaN     NaN     NaN   \n",
       "2018-03-01 04:00:00  124.0    NaN    NaN  ...     NaN     NaN     NaN     NaN   \n",
       "\n",
       "                     lag_26  lag_27  lag_28  lag_29  lag_30  rolling_mean  \n",
       "datetime                                                                   \n",
       "2018-03-01 00:00:00     NaN     NaN     NaN     NaN     NaN           NaN  \n",
       "2018-03-01 01:00:00     NaN     NaN     NaN     NaN     NaN           NaN  \n",
       "2018-03-01 02:00:00     NaN     NaN     NaN     NaN     NaN           NaN  \n",
       "2018-03-01 03:00:00     NaN     NaN     NaN     NaN     NaN           NaN  \n",
       "2018-03-01 04:00:00     NaN     NaN     NaN     NaN     NaN           NaN  \n",
       "\n",
       "[5 rows x 35 columns]"
      ]
     },
     "execution_count": 17,
     "metadata": {},
     "output_type": "execute_result"
    }
   ],
   "source": [
    "data.head()"
   ]
  },
  {
   "cell_type": "code",
   "execution_count": 18,
   "metadata": {},
   "outputs": [],
   "source": [
    "features = data.drop('num_orders', axis=1)\n",
    "target = data['num_orders']\n"
   ]
  },
  {
   "cell_type": "code",
   "execution_count": 19,
   "metadata": {},
   "outputs": [],
   "source": [
    "f_train, f_test, t_train, t_test = train_test_split(features, target,\\\n",
    "                                                    test_size=0.1, shuffle=False)\n",
    "tscv = TimeSeriesSplit(n_splits=5)"
   ]
  },
  {
   "cell_type": "code",
   "execution_count": 20,
   "metadata": {},
   "outputs": [
    {
     "data": {
      "text/plain": [
       "((3974, 34), (442, 34), (3974,), (442,))"
      ]
     },
     "execution_count": 20,
     "metadata": {},
     "output_type": "execute_result"
    }
   ],
   "source": [
    "f_train.shape, f_test.shape, t_train.shape, t_test.shape"
   ]
  },
  {
   "cell_type": "markdown",
   "metadata": {},
   "source": [
    "# CatBoostRegressor"
   ]
  },
  {
   "cell_type": "code",
   "execution_count": 21,
   "metadata": {},
   "outputs": [
    {
     "name": "stdout",
     "output_type": "stream",
     "text": [
      "Learning rate set to 0.058136\n",
      "0:\tlearn: 29.1440430\ttotal: 139ms\tremaining: 1m 23s\n",
      "200:\tlearn: 14.1227516\ttotal: 208ms\tremaining: 413ms\n",
      "400:\tlearn: 11.0369754\ttotal: 265ms\tremaining: 131ms\n",
      "599:\tlearn: 8.8151811\ttotal: 321ms\tremaining: 0us\n",
      "Learning rate set to 0.064849\n",
      "0:\tlearn: 29.7071336\ttotal: 14.7ms\tremaining: 8.78s\n",
      "200:\tlearn: 16.0420318\ttotal: 84ms\tremaining: 167ms\n",
      "400:\tlearn: 13.5394301\ttotal: 151ms\tremaining: 75.1ms\n",
      "599:\tlearn: 11.6545169\ttotal: 218ms\tremaining: 0us\n",
      "Learning rate set to 0.069134\n",
      "0:\tlearn: 31.1546572\ttotal: 562us\tremaining: 337ms\n",
      "200:\tlearn: 17.1907246\ttotal: 79.9ms\tremaining: 159ms\n",
      "400:\tlearn: 15.0280419\ttotal: 158ms\tremaining: 78.4ms\n",
      "599:\tlearn: 13.5056356\ttotal: 235ms\tremaining: 0us\n",
      "Learning rate set to 0.072346\n",
      "0:\tlearn: 32.4154165\ttotal: 686us\tremaining: 411ms\n",
      "200:\tlearn: 18.2420053\ttotal: 91.6ms\tremaining: 182ms\n",
      "400:\tlearn: 16.1910713\ttotal: 182ms\tremaining: 90.3ms\n",
      "599:\tlearn: 14.7051934\ttotal: 273ms\tremaining: 0us\n",
      "Learning rate set to 0.074941\n",
      "0:\tlearn: 33.7058096\ttotal: 661us\tremaining: 396ms\n",
      "200:\tlearn: 19.2700015\ttotal: 99.9ms\tremaining: 198ms\n",
      "400:\tlearn: 17.2121971\ttotal: 198ms\tremaining: 98.5ms\n",
      "599:\tlearn: 15.8116568\ttotal: 297ms\tremaining: 0us\n",
      "Learning rate set to 0.07713\n",
      "0:\tlearn: 37.3857259\ttotal: 734us\tremaining: 440ms\n",
      "200:\tlearn: 21.0542573\ttotal: 111ms\tremaining: 220ms\n",
      "400:\tlearn: 18.7041487\ttotal: 231ms\tremaining: 114ms\n",
      "599:\tlearn: 17.2286825\ttotal: 338ms\tremaining: 0us\n",
      "{'loss_function': 'RMSE', 'max_depth': 3, 'n_estimators': 600, 'random_state': 12345}\n",
      "24.803148927946896\n",
      "CPU times: total: 27.8 s\n",
      "Wall time: 1.91 s\n"
     ]
    }
   ],
   "source": [
    "%%time\n",
    "model = CatBoostRegressor()\n",
    "params = {\n",
    "    'n_estimators': [600],\n",
    "    'max_depth': [3], \n",
    "    'loss_function' : ['RMSE'],\n",
    "    'random_state' : [12345]\n",
    "}\n",
    "grid_search = GridSearchCV(model, params, cv=tscv, scoring='neg_mean_squared_error')\n",
    "grid_search.fit(f_train, t_train, verbose=200)\n",
    "\n",
    "\n",
    "print(grid_search.best_params_)\n",
    "print(np.sqrt(np.abs(grid_search.best_score_)))"
   ]
  },
  {
   "cell_type": "code",
   "execution_count": 22,
   "metadata": {},
   "outputs": [],
   "source": [
    "best_cat = grid_search.best_params_"
   ]
  },
  {
   "cell_type": "markdown",
   "metadata": {},
   "source": [
    "# LGBMRegressor"
   ]
  },
  {
   "cell_type": "code",
   "execution_count": 23,
   "metadata": {},
   "outputs": [
    {
     "name": "stdout",
     "output_type": "stream",
     "text": [
      "{'n_estimators': 10, 'objective': 'RMSE'}\n",
      "29.84166588816085\n",
      "CPU times: total: 281 ms\n",
      "Wall time: 1.54 s\n"
     ]
    }
   ],
   "source": [
    "%%time\n",
    "model = LGBMRegressor()\n",
    "\n",
    "param = {\n",
    "    'n_estimators' : [1, 2, 5, 10],\n",
    "    'objective' : ['RMSE']    \n",
    "}\n",
    "\n",
    "grid_lgb = GridSearchCV(model, param, scoring='neg_mean_squared_error', cv=tscv, n_jobs=-1)\n",
    "grid_lgb.fit(f_train, t_train)\n",
    "\n",
    "print(grid_lgb.best_params_)\n",
    "print(np.sqrt(np.abs(grid_lgb.best_score_)))"
   ]
  },
  {
   "cell_type": "code",
   "execution_count": 24,
   "metadata": {},
   "outputs": [],
   "source": [
    "best_lgb = grid_lgb.best_params_"
   ]
  },
  {
   "cell_type": "markdown",
   "metadata": {},
   "source": [
    "# Вывод\n"
   ]
  },
  {
   "cell_type": "markdown",
   "metadata": {},
   "source": [
    "- По результатам обучения  моделей для проверки была выбрана модель CatBoostRegressor. При параметрах **iterations: 600, max_depth: 3, loss_function: RMSE** она показала наилучшую метрику **RMSE: 24.8** "
   ]
  },
  {
   "cell_type": "markdown",
   "metadata": {},
   "source": [
    "## 4 Тестирование"
   ]
  },
  {
   "cell_type": "code",
   "execution_count": 25,
   "metadata": {},
   "outputs": [
    {
     "name": "stdout",
     "output_type": "stream",
     "text": [
      "Learning rate set to 0.07713\n",
      "0:\tlearn: 37.3857259\ttotal: 761us\tremaining: 456ms\n",
      "100:\tlearn: 22.9375278\ttotal: 61.4ms\tremaining: 303ms\n",
      "200:\tlearn: 21.0542573\ttotal: 118ms\tremaining: 235ms\n",
      "300:\tlearn: 19.6792263\ttotal: 174ms\tremaining: 173ms\n",
      "400:\tlearn: 18.7041487\ttotal: 231ms\tremaining: 115ms\n",
      "500:\tlearn: 17.9297257\ttotal: 286ms\tremaining: 56.5ms\n",
      "599:\tlearn: 17.2286825\ttotal: 340ms\tremaining: 0us\n",
      "RMSE: 42.4892231327642\n",
      "CPU times: total: 6.28 s\n",
      "Wall time: 383 ms\n"
     ]
    }
   ],
   "source": [
    "%%time\n",
    "model = CatBoostRegressor(**best_cat).fit(f_train, t_train, verbose=100)\n",
    "predict = model.predict(f_test)\n",
    "result_mse =  mean_squared_error(t_test, predict)\n",
    "print('RMSE:', result_mse**0.5)"
   ]
  },
  {
   "cell_type": "code",
   "execution_count": 26,
   "metadata": {},
   "outputs": [
    {
     "data": {
      "image/png": "[encoded data removed]",
      "text/plain": [
       "<Figure size 1500x1000 with 1 Axes>"
      ]
     },
     "metadata": {},
     "output_type": "display_data"
    }
   ],
   "source": [
    "feature_imp = pd.Series(model.feature_importances_, index=f_test.columns).sort_values(ascending=False)\n",
    "      \n",
    "fig, ax = plt.subplots(figsize=(15,10))\n",
    "feature_imp.plot.bar(ax=ax)\n",
    "_ = ax.set_title('Оценка важности признаков')\n",
    "_ = ax.set_ylabel('Признаки')\n",
    "fig.tight_layout()"
   ]
  },
  {
   "cell_type": "markdown",
   "metadata": {},
   "source": [
    "По графику важности признаков можно заметить, что наиболее важными для обучения модели являются признаки **hours** и **lag_24**. Для возможного улучшения метрики их нельзя удалять. Так же есть признаки которые не играют роль при обучении **day** и **lag_29**  их можно удалить и проверить повысится ли качество метрики"
   ]
  },
  {
   "cell_type": "code",
   "execution_count": 27,
   "metadata": {},
   "outputs": [],
   "source": [
    "filt_features_train = f_train.copy()\n",
    "filt_features_test = f_test.copy()\n",
    "filt_features_train = filt_features_train.drop(columns=['day', 'lag_29'])\n",
    "filt_features_test = filt_features_test.drop(columns=['day', 'lag_29'])"
   ]
  },
  {
   "cell_type": "code",
   "execution_count": 28,
   "metadata": {},
   "outputs": [
    {
     "name": "stdout",
     "output_type": "stream",
     "text": [
      "Learning rate set to 0.07713\n",
      "0:\tlearn: 37.3560317\ttotal: 804us\tremaining: 482ms\n",
      "100:\tlearn: 22.9042075\ttotal: 59.4ms\tremaining: 294ms\n",
      "200:\tlearn: 20.9080969\ttotal: 111ms\tremaining: 220ms\n",
      "300:\tlearn: 19.5877278\ttotal: 164ms\tremaining: 163ms\n",
      "400:\tlearn: 18.5817631\ttotal: 218ms\tremaining: 108ms\n",
      "500:\tlearn: 17.8231174\ttotal: 270ms\tremaining: 53.3ms\n",
      "599:\tlearn: 17.1666148\ttotal: 321ms\tremaining: 0us\n",
      "RMSE: 41.64655147111678\n",
      "CPU times: total: 5.86 s\n",
      "Wall time: 362 ms\n"
     ]
    }
   ],
   "source": [
    "%%time\n",
    "model = CatBoostRegressor(**best_cat).fit(filt_features_train, t_train, verbose=100)\n",
    "predict = model.predict(filt_features_test)\n",
    "result_mse =  mean_squared_error(t_test, predict)\n",
    "print('RMSE:', result_mse**0.5)\n"
   ]
  },
  {
   "cell_type": "markdown",
   "metadata": {},
   "source": [
    "Как можно видеть качество метрики возросло с **42.5** до **41.65**"
   ]
  },
  {
   "cell_type": "code",
   "execution_count": 29,
   "metadata": {},
   "outputs": [
    {
     "name": "stdout",
     "output_type": "stream",
     "text": [
      "RMSE: 84.74414402014742\n"
     ]
    }
   ],
   "source": [
    "model = DummyRegressor(strategy=\"mean\").fit(f_train, t_train)\n",
    "pred = model.predict(f_test)\n",
    "result_mse =  mean_squared_error(t_test, pred)\n",
    "print('RMSE:', result_mse**0.5)"
   ]
  },
  {
   "cell_type": "markdown",
   "metadata": {},
   "source": [
    "# Отчет"
   ]
  },
  {
   "cell_type": "markdown",
   "metadata": {},
   "source": [
    "**1) Подготовка**\n",
    "\n",
    "- Размер данных до ресемпилирования **26496 на 1** после **4416 на 1**\n",
    "- Проверка индекс показала, что они идут по порядку\n",
    "- Была произведена повторная выборка с новым интервалом в 1 час\n",
    "\n",
    "**2) Анализ**\n",
    "\n",
    "- Изучив график сезонности можно сказать, что она длится примерно 24 часа\n",
    "- Сделав срез по графику сезоности в течении двух дней, было замечено что пик заказов приходится на 00:00. Скорее всего можно объяснить тем, что к этому времени общественный транспрот уже не ходит и при выборе вариата добраться из одной точки в другую выбирают такси\n",
    "- Наименьше всего такси заказывают в 06:00. Такое колличество можно объяснить тем, что большинство людей спит в это время\n",
    "\n",
    "**3) Обучение**\n",
    "\n",
    "- По результатам обучения  моделей для проверки была выбрана модель CatBoostRegressor. При параметрах **iterations: 600, max_depth: 3, loss_function: RMSE** она показала наилучшую метрику **RMSE: 24.8**  \n",
    "\n",
    "**4) Тестирование лучшей модели**\n",
    "\n",
    "- При первой проверки модели значения **RMSE: 42.5**\n",
    "- При построении графика оценки важности признаков было замечено, что наибольшую важность при обучении играет признак **lag_24** и **hours**\n",
    "- Для улучшения качества модели было решено убрать малозначимые признаки. Проверка модели CatBoostRegressor на тестовых данных показала метрику **RMSE: 41.65**\n",
    "- Была сделана проверка модели на адекватность при помощи константной модели. Показатели константной модели составили **RMSE: 84.74**. По результатам модель проходит проверку на адекватность\n",
    "\n",
    "**Все пункты составленного плана были выполнены**\n",
    "\n",
    "**Ключевые шаги**\n",
    "\n",
    "- Правильный анализ данных\n",
    "- Правильный подбор параметров для обучения модели\n",
    "- Выбор значимых и не значимых признаков по графику важности\n",
    "\n",
    "**Признаки используемые при обучении**\n",
    "\n",
    "- hours, day, dayofweek, rolling_mean, lag_1 - lag_30\n",
    "\n",
    "**Лучшая модель**\n",
    "\n",
    "- Лучшая модель **CatBoostRegressor**\n",
    "- Парметры **iterations: 600, max_depth: 3, loss_function: RMSE**\n",
    "- Метрика **RMSE: 41.65**"
   ]
  },
  {
   "cell_type": "markdown",
   "metadata": {},
   "source": [
    "***"
   ]
  }
 ],
 "metadata": {
  "ExecuteTimeLog": [
   {
    "duration": 1215,
    "start_time": "2023-05-11T15:30:25.116Z"
   },
   {
    "duration": 181,
    "start_time": "2023-05-11T15:30:26.865Z"
   },
   {
    "duration": 167,
    "start_time": "2023-05-11T15:30:49.084Z"
   },
   {
    "duration": 13,
    "start_time": "2023-05-11T15:30:58.510Z"
   },
   {
    "duration": 3,
    "start_time": "2023-05-11T15:31:19.929Z"
   },
   {
    "duration": 46,
    "start_time": "2023-05-11T15:31:20.329Z"
   },
   {
    "duration": 25,
    "start_time": "2023-05-11T15:31:20.891Z"
   },
   {
    "duration": 1460,
    "start_time": "2023-05-11T15:31:47.621Z"
   },
   {
    "duration": 84,
    "start_time": "2023-05-11T15:31:49.083Z"
   },
   {
    "duration": 16,
    "start_time": "2023-05-11T15:31:49.169Z"
   },
   {
    "duration": 9,
    "start_time": "2023-05-11T15:32:39.862Z"
   },
   {
    "duration": 157,
    "start_time": "2023-05-11T15:33:03.212Z"
   },
   {
    "duration": 5,
    "start_time": "2023-05-11T15:33:08.986Z"
   },
   {
    "duration": 12,
    "start_time": "2023-05-11T15:36:57.582Z"
   },
   {
    "duration": 1380,
    "start_time": "2023-05-11T15:38:14.963Z"
   },
   {
    "duration": 10,
    "start_time": "2023-05-11T15:38:59.149Z"
   },
   {
    "duration": 363,
    "start_time": "2023-05-11T15:38:59.523Z"
   },
   {
    "duration": 5,
    "start_time": "2023-05-11T15:39:23.427Z"
   },
   {
    "duration": 1611,
    "start_time": "2023-05-11T15:42:51.384Z"
   },
   {
    "duration": 54,
    "start_time": "2023-05-11T15:42:52.997Z"
   },
   {
    "duration": 12,
    "start_time": "2023-05-11T15:42:53.053Z"
   },
   {
    "duration": 8,
    "start_time": "2023-05-11T15:42:53.067Z"
   },
   {
    "duration": 5,
    "start_time": "2023-05-11T15:42:53.077Z"
   },
   {
    "duration": 45,
    "start_time": "2023-05-11T15:42:53.084Z"
   },
   {
    "duration": 13,
    "start_time": "2023-05-11T15:42:53.136Z"
   },
   {
    "duration": 46416,
    "start_time": "2023-05-11T15:42:53.152Z"
   },
   {
    "duration": 0,
    "start_time": "2023-05-11T15:43:39.570Z"
   },
   {
    "duration": 1534,
    "start_time": "2023-05-11T15:43:50.612Z"
   },
   {
    "duration": 49,
    "start_time": "2023-05-11T15:43:52.149Z"
   },
   {
    "duration": 18,
    "start_time": "2023-05-11T15:43:52.200Z"
   },
   {
    "duration": 19,
    "start_time": "2023-05-11T15:43:52.221Z"
   },
   {
    "duration": 39,
    "start_time": "2023-05-11T15:43:52.242Z"
   },
   {
    "duration": 36,
    "start_time": "2023-05-11T15:43:52.283Z"
   },
   {
    "duration": 8,
    "start_time": "2023-05-11T15:43:52.321Z"
   },
   {
    "duration": 21386,
    "start_time": "2023-05-11T15:43:52.331Z"
   },
   {
    "duration": 0,
    "start_time": "2023-05-11T15:44:13.719Z"
   },
   {
    "duration": 6374,
    "start_time": "2023-05-11T15:44:29.544Z"
   },
   {
    "duration": 13,
    "start_time": "2023-05-11T15:44:40.178Z"
   },
   {
    "duration": 1559,
    "start_time": "2023-05-11T15:44:54.087Z"
   },
   {
    "duration": 59,
    "start_time": "2023-05-11T15:44:55.648Z"
   },
   {
    "duration": 17,
    "start_time": "2023-05-11T15:44:55.710Z"
   },
   {
    "duration": 11,
    "start_time": "2023-05-11T15:44:55.730Z"
   },
   {
    "duration": 15,
    "start_time": "2023-05-11T15:44:55.743Z"
   },
   {
    "duration": 10,
    "start_time": "2023-05-11T15:44:55.760Z"
   },
   {
    "duration": 21,
    "start_time": "2023-05-11T15:44:55.773Z"
   },
   {
    "duration": 306,
    "start_time": "2023-05-11T15:44:55.796Z"
   },
   {
    "duration": 144,
    "start_time": "2023-05-11T15:44:56.108Z"
   },
   {
    "duration": 45,
    "start_time": "2023-05-11T15:45:24.549Z"
   },
   {
    "duration": 886,
    "start_time": "2023-05-11T15:45:26.669Z"
   },
   {
    "duration": 224,
    "start_time": "2023-05-11T15:46:36.090Z"
   },
   {
    "duration": 243,
    "start_time": "2023-05-11T15:46:46.211Z"
   },
   {
    "duration": 268,
    "start_time": "2023-05-11T15:47:11.240Z"
   },
   {
    "duration": 384,
    "start_time": "2023-05-11T15:47:41.549Z"
   },
   {
    "duration": 470,
    "start_time": "2023-05-11T15:48:15.006Z"
   },
   {
    "duration": 469,
    "start_time": "2023-05-11T15:48:33.052Z"
   },
   {
    "duration": 53,
    "start_time": "2023-05-11T15:48:46.509Z"
   },
   {
    "duration": 576,
    "start_time": "2023-05-11T15:48:54.790Z"
   },
   {
    "duration": 863,
    "start_time": "2023-05-11T15:50:32.816Z"
   },
   {
    "duration": 30,
    "start_time": "2023-05-11T15:55:01.706Z"
   },
   {
    "duration": 16,
    "start_time": "2023-05-11T15:55:30.749Z"
   },
   {
    "duration": 14,
    "start_time": "2023-05-11T15:55:34.508Z"
   },
   {
    "duration": 13,
    "start_time": "2023-05-11T15:57:22.840Z"
   },
   {
    "duration": 25,
    "start_time": "2023-05-11T15:58:15.534Z"
   },
   {
    "duration": 57,
    "start_time": "2023-05-11T15:58:22.939Z"
   },
   {
    "duration": 11,
    "start_time": "2023-05-11T15:58:31.401Z"
   },
   {
    "duration": 12,
    "start_time": "2023-05-11T15:58:38.500Z"
   },
   {
    "duration": 15,
    "start_time": "2023-05-11T16:03:05.006Z"
   },
   {
    "duration": 4,
    "start_time": "2023-05-11T16:03:24.543Z"
   },
   {
    "duration": 1222,
    "start_time": "2023-05-11T16:03:28.616Z"
   },
   {
    "duration": 4,
    "start_time": "2023-05-11T16:03:44.841Z"
   },
   {
    "duration": 1072,
    "start_time": "2023-05-11T16:03:47.935Z"
   },
   {
    "duration": 15,
    "start_time": "2023-05-11T16:03:59.453Z"
   },
   {
    "duration": 21,
    "start_time": "2023-05-11T16:03:59.916Z"
   },
   {
    "duration": 13,
    "start_time": "2023-05-11T16:04:19.950Z"
   },
   {
    "duration": 3374,
    "start_time": "2023-05-11T16:04:21.633Z"
   },
   {
    "duration": 25,
    "start_time": "2023-05-11T16:05:08.504Z"
   },
   {
    "duration": 98,
    "start_time": "2023-05-11T16:05:13.966Z"
   },
   {
    "duration": 9867,
    "start_time": "2023-05-11T16:05:17.880Z"
   },
   {
    "duration": 3195,
    "start_time": "2023-05-11T16:07:45.910Z"
   },
   {
    "duration": 8971,
    "start_time": "2023-05-11T16:07:49.116Z"
   },
   {
    "duration": 18,
    "start_time": "2023-05-11T16:08:48.343Z"
   },
   {
    "duration": 1673,
    "start_time": "2023-05-11T16:09:09.127Z"
   },
   {
    "duration": 48,
    "start_time": "2023-05-11T16:09:10.809Z"
   },
   {
    "duration": 13,
    "start_time": "2023-05-11T16:09:10.858Z"
   },
   {
    "duration": 7,
    "start_time": "2023-05-11T16:09:10.874Z"
   },
   {
    "duration": 25,
    "start_time": "2023-05-11T16:09:10.883Z"
   },
   {
    "duration": 10,
    "start_time": "2023-05-11T16:09:10.917Z"
   },
   {
    "duration": 13,
    "start_time": "2023-05-11T16:09:10.930Z"
   },
   {
    "duration": 288,
    "start_time": "2023-05-11T16:09:10.945Z"
   },
   {
    "duration": 783,
    "start_time": "2023-05-11T16:09:11.235Z"
   },
   {
    "duration": 17,
    "start_time": "2023-05-11T16:09:12.021Z"
   },
   {
    "duration": 26,
    "start_time": "2023-05-11T16:09:12.039Z"
   },
   {
    "duration": 13,
    "start_time": "2023-05-11T16:09:12.067Z"
   },
   {
    "duration": 3055,
    "start_time": "2023-05-11T16:09:12.082Z"
   },
   {
    "duration": 10237,
    "start_time": "2023-05-11T16:09:15.196Z"
   },
   {
    "duration": 528948,
    "start_time": "2023-05-11T16:09:25.437Z"
   },
   {
    "duration": 1638,
    "start_time": "2023-05-11T16:22:13.819Z"
   },
   {
    "duration": 63,
    "start_time": "2023-05-11T16:22:15.461Z"
   },
   {
    "duration": 13,
    "start_time": "2023-05-11T16:22:15.527Z"
   },
   {
    "duration": 6,
    "start_time": "2023-05-11T16:22:15.542Z"
   },
   {
    "duration": 7,
    "start_time": "2023-05-11T16:22:15.551Z"
   },
   {
    "duration": 35,
    "start_time": "2023-05-11T16:22:15.560Z"
   },
   {
    "duration": 17,
    "start_time": "2023-05-11T16:22:15.600Z"
   },
   {
    "duration": 293,
    "start_time": "2023-05-11T16:22:15.619Z"
   },
   {
    "duration": 570,
    "start_time": "2023-05-11T16:22:15.914Z"
   },
   {
    "duration": 23,
    "start_time": "2023-05-11T16:22:16.486Z"
   },
   {
    "duration": 19,
    "start_time": "2023-05-11T16:22:16.513Z"
   },
   {
    "duration": 98,
    "start_time": "2023-05-11T16:22:16.535Z"
   },
   {
    "duration": 1287,
    "start_time": "2023-05-11T16:22:16.635Z"
   },
   {
    "duration": 7939,
    "start_time": "2023-05-11T16:22:17.932Z"
   },
   {
    "duration": 1742,
    "start_time": "2023-05-12T11:04:17.253Z"
   },
   {
    "duration": 143,
    "start_time": "2023-05-12T11:04:18.998Z"
   },
   {
    "duration": 13,
    "start_time": "2023-05-12T11:04:19.143Z"
   },
   {
    "duration": 14,
    "start_time": "2023-05-12T11:04:19.158Z"
   },
   {
    "duration": 6,
    "start_time": "2023-05-12T11:04:19.174Z"
   },
   {
    "duration": 17,
    "start_time": "2023-05-12T11:04:19.181Z"
   },
   {
    "duration": 12,
    "start_time": "2023-05-12T11:04:19.199Z"
   },
   {
    "duration": 266,
    "start_time": "2023-05-12T11:04:19.213Z"
   },
   {
    "duration": 588,
    "start_time": "2023-05-12T11:04:19.481Z"
   },
   {
    "duration": 12,
    "start_time": "2023-05-12T11:04:20.072Z"
   },
   {
    "duration": 19,
    "start_time": "2023-05-12T11:04:20.086Z"
   },
   {
    "duration": 24,
    "start_time": "2023-05-12T11:04:20.107Z"
   },
   {
    "duration": 967,
    "start_time": "2023-05-12T11:04:20.132Z"
   },
   {
    "duration": 7125,
    "start_time": "2023-05-12T11:04:21.156Z"
   },
   {
    "duration": 3273,
    "start_time": "2023-05-12T11:04:28.284Z"
   },
   {
    "duration": 1400,
    "start_time": "2023-05-12T11:05:51.647Z"
   },
   {
    "duration": 45,
    "start_time": "2023-05-12T11:05:53.049Z"
   },
   {
    "duration": 12,
    "start_time": "2023-05-12T11:05:53.096Z"
   },
   {
    "duration": 5,
    "start_time": "2023-05-12T11:05:53.109Z"
   },
   {
    "duration": 6,
    "start_time": "2023-05-12T11:05:53.116Z"
   },
   {
    "duration": 20,
    "start_time": "2023-05-12T11:05:53.124Z"
   },
   {
    "duration": 20,
    "start_time": "2023-05-12T11:05:53.146Z"
   },
   {
    "duration": 249,
    "start_time": "2023-05-12T11:05:53.168Z"
   },
   {
    "duration": 471,
    "start_time": "2023-05-12T11:05:53.418Z"
   },
   {
    "duration": 16,
    "start_time": "2023-05-12T11:05:53.891Z"
   },
   {
    "duration": 110,
    "start_time": "2023-05-12T11:05:53.909Z"
   },
   {
    "duration": 17,
    "start_time": "2023-05-12T11:05:54.020Z"
   },
   {
    "duration": 2234,
    "start_time": "2023-05-12T11:05:54.039Z"
   },
   {
    "duration": 8108,
    "start_time": "2023-05-12T11:05:56.275Z"
   },
   {
    "duration": 3987,
    "start_time": "2023-05-12T11:06:04.385Z"
   },
   {
    "duration": 751,
    "start_time": "2023-05-12T11:09:38.756Z"
   },
   {
    "duration": 775,
    "start_time": "2023-05-12T11:09:45.867Z"
   },
   {
    "duration": 1453,
    "start_time": "2023-05-12T11:11:40.631Z"
   },
   {
    "duration": 46,
    "start_time": "2023-05-12T11:11:42.086Z"
   },
   {
    "duration": 11,
    "start_time": "2023-05-12T11:11:42.134Z"
   },
   {
    "duration": 8,
    "start_time": "2023-05-12T11:11:42.146Z"
   },
   {
    "duration": 7,
    "start_time": "2023-05-12T11:11:42.156Z"
   },
   {
    "duration": 13,
    "start_time": "2023-05-12T11:11:42.165Z"
   },
   {
    "duration": 10,
    "start_time": "2023-05-12T11:11:42.179Z"
   },
   {
    "duration": 256,
    "start_time": "2023-05-12T11:11:42.191Z"
   },
   {
    "duration": 476,
    "start_time": "2023-05-12T11:11:42.449Z"
   },
   {
    "duration": 13,
    "start_time": "2023-05-12T11:11:42.927Z"
   },
   {
    "duration": 36,
    "start_time": "2023-05-12T11:11:42.943Z"
   },
   {
    "duration": 100,
    "start_time": "2023-05-12T11:11:42.980Z"
   },
   {
    "duration": 1104,
    "start_time": "2023-05-12T11:11:43.082Z"
   },
   {
    "duration": 7658,
    "start_time": "2023-05-12T11:11:44.256Z"
   },
   {
    "duration": 5440,
    "start_time": "2023-05-12T11:11:51.916Z"
   },
   {
    "duration": 632,
    "start_time": "2023-05-12T11:11:57.358Z"
   },
   {
    "duration": 1450,
    "start_time": "2023-05-12T11:12:31.383Z"
   },
   {
    "duration": 47,
    "start_time": "2023-05-12T11:12:32.835Z"
   },
   {
    "duration": 11,
    "start_time": "2023-05-12T11:12:32.884Z"
   },
   {
    "duration": 6,
    "start_time": "2023-05-12T11:12:32.898Z"
   },
   {
    "duration": 7,
    "start_time": "2023-05-12T11:12:32.905Z"
   },
   {
    "duration": 11,
    "start_time": "2023-05-12T11:12:32.914Z"
   },
   {
    "duration": 34,
    "start_time": "2023-05-12T11:12:32.927Z"
   },
   {
    "duration": 247,
    "start_time": "2023-05-12T11:12:32.964Z"
   },
   {
    "duration": 471,
    "start_time": "2023-05-12T11:12:33.214Z"
   },
   {
    "duration": 14,
    "start_time": "2023-05-12T11:12:33.688Z"
   },
   {
    "duration": 14,
    "start_time": "2023-05-12T11:12:33.704Z"
   },
   {
    "duration": 106,
    "start_time": "2023-05-12T11:12:33.721Z"
   },
   {
    "duration": 1136,
    "start_time": "2023-05-12T11:12:33.829Z"
   },
   {
    "duration": 11113,
    "start_time": "2023-05-12T11:12:34.967Z"
   },
   {
    "duration": 3680,
    "start_time": "2023-05-12T11:12:46.082Z"
   },
   {
    "duration": 856,
    "start_time": "2023-05-12T11:12:49.764Z"
   },
   {
    "duration": 1503,
    "start_time": "2023-05-12T11:13:13.761Z"
   },
   {
    "duration": 46,
    "start_time": "2023-05-12T11:13:15.266Z"
   },
   {
    "duration": 11,
    "start_time": "2023-05-12T11:13:15.314Z"
   },
   {
    "duration": 6,
    "start_time": "2023-05-12T11:13:15.327Z"
   },
   {
    "duration": 8,
    "start_time": "2023-05-12T11:13:15.335Z"
   },
   {
    "duration": 17,
    "start_time": "2023-05-12T11:13:15.345Z"
   },
   {
    "duration": 8,
    "start_time": "2023-05-12T11:13:15.364Z"
   },
   {
    "duration": 251,
    "start_time": "2023-05-12T11:13:15.374Z"
   },
   {
    "duration": 531,
    "start_time": "2023-05-12T11:13:15.626Z"
   },
   {
    "duration": 15,
    "start_time": "2023-05-12T11:13:16.160Z"
   },
   {
    "duration": 28,
    "start_time": "2023-05-12T11:13:16.177Z"
   },
   {
    "duration": 105,
    "start_time": "2023-05-12T11:13:16.207Z"
   },
   {
    "duration": 2059,
    "start_time": "2023-05-12T11:13:16.314Z"
   },
   {
    "duration": 13621,
    "start_time": "2023-05-12T11:13:18.456Z"
   },
   {
    "duration": 10787,
    "start_time": "2023-05-12T11:13:32.080Z"
   },
   {
    "duration": 1207,
    "start_time": "2023-05-12T11:13:42.871Z"
   },
   {
    "duration": 1498,
    "start_time": "2023-05-12T11:16:20.642Z"
   },
   {
    "duration": 49,
    "start_time": "2023-05-12T11:16:22.142Z"
   },
   {
    "duration": 247,
    "start_time": "2023-05-12T11:16:22.192Z"
   },
   {
    "duration": 5,
    "start_time": "2023-05-12T11:16:22.441Z"
   },
   {
    "duration": 5,
    "start_time": "2023-05-12T11:16:22.448Z"
   },
   {
    "duration": 9,
    "start_time": "2023-05-12T11:16:22.455Z"
   },
   {
    "duration": 9,
    "start_time": "2023-05-12T11:16:22.466Z"
   },
   {
    "duration": 257,
    "start_time": "2023-05-12T11:16:22.476Z"
   },
   {
    "duration": 510,
    "start_time": "2023-05-12T11:16:22.735Z"
   },
   {
    "duration": 17,
    "start_time": "2023-05-12T11:16:23.247Z"
   },
   {
    "duration": 111,
    "start_time": "2023-05-12T11:16:23.265Z"
   },
   {
    "duration": 18,
    "start_time": "2023-05-12T11:16:23.379Z"
   },
   {
    "duration": 2160,
    "start_time": "2023-05-12T11:16:23.399Z"
   },
   {
    "duration": 14777,
    "start_time": "2023-05-12T11:16:25.562Z"
   },
   {
    "duration": 54,
    "start_time": "2023-05-12T11:16:40.341Z"
   },
   {
    "duration": 0,
    "start_time": "2023-05-12T11:16:40.396Z"
   },
   {
    "duration": 21662,
    "start_time": "2023-05-12T11:16:57.300Z"
   },
   {
    "duration": 12016,
    "start_time": "2023-05-12T11:17:59.241Z"
   },
   {
    "duration": 31,
    "start_time": "2023-05-12T11:20:01.160Z"
   },
   {
    "duration": 17,
    "start_time": "2023-05-12T11:20:17.484Z"
   },
   {
    "duration": 22797,
    "start_time": "2023-05-12T11:21:39.764Z"
   },
   {
    "duration": 724,
    "start_time": "2023-05-12T11:22:34.434Z"
   },
   {
    "duration": 29212,
    "start_time": "2023-05-12T11:22:45.049Z"
   },
   {
    "duration": 795,
    "start_time": "2023-05-12T11:23:34.469Z"
   },
   {
    "duration": 1528,
    "start_time": "2023-05-12T11:24:35.030Z"
   },
   {
    "duration": 48,
    "start_time": "2023-05-12T11:24:36.560Z"
   },
   {
    "duration": 12,
    "start_time": "2023-05-12T11:24:36.610Z"
   },
   {
    "duration": 24,
    "start_time": "2023-05-12T11:24:36.624Z"
   },
   {
    "duration": 17,
    "start_time": "2023-05-12T11:24:36.650Z"
   },
   {
    "duration": 25,
    "start_time": "2023-05-12T11:24:36.669Z"
   },
   {
    "duration": 25,
    "start_time": "2023-05-12T11:24:36.696Z"
   },
   {
    "duration": 314,
    "start_time": "2023-05-12T11:24:36.723Z"
   },
   {
    "duration": 518,
    "start_time": "2023-05-12T11:24:37.039Z"
   },
   {
    "duration": 21,
    "start_time": "2023-05-12T11:24:37.560Z"
   },
   {
    "duration": 132,
    "start_time": "2023-05-12T11:24:37.582Z"
   },
   {
    "duration": 15,
    "start_time": "2023-05-12T11:24:37.716Z"
   },
   {
    "duration": 3526,
    "start_time": "2023-05-12T11:24:37.733Z"
   },
   {
    "duration": 31939,
    "start_time": "2023-05-12T11:24:41.262Z"
   },
   {
    "duration": 83553,
    "start_time": "2023-05-12T11:25:13.203Z"
   },
   {
    "duration": 1000,
    "start_time": "2023-05-12T11:26:36.759Z"
   },
   {
    "duration": 1943,
    "start_time": "2023-05-12T11:27:00.729Z"
   },
   {
    "duration": 1432,
    "start_time": "2023-05-12T11:27:30.910Z"
   },
   {
    "duration": 47,
    "start_time": "2023-05-12T11:27:32.344Z"
   },
   {
    "duration": 11,
    "start_time": "2023-05-12T11:27:32.393Z"
   },
   {
    "duration": 7,
    "start_time": "2023-05-12T11:27:32.406Z"
   },
   {
    "duration": 31,
    "start_time": "2023-05-12T11:27:32.415Z"
   },
   {
    "duration": 25,
    "start_time": "2023-05-12T11:27:32.447Z"
   },
   {
    "duration": 21,
    "start_time": "2023-05-12T11:27:32.474Z"
   },
   {
    "duration": 259,
    "start_time": "2023-05-12T11:27:32.497Z"
   },
   {
    "duration": 512,
    "start_time": "2023-05-12T11:27:32.758Z"
   },
   {
    "duration": 21,
    "start_time": "2023-05-12T11:27:33.273Z"
   },
   {
    "duration": 126,
    "start_time": "2023-05-12T11:27:33.296Z"
   },
   {
    "duration": 21,
    "start_time": "2023-05-12T11:27:33.424Z"
   },
   {
    "duration": 3224,
    "start_time": "2023-05-12T11:27:33.446Z"
   },
   {
    "duration": 71938,
    "start_time": "2023-05-12T11:27:36.672Z"
   },
   {
    "duration": 1521,
    "start_time": "2023-05-12T11:33:38.791Z"
   },
   {
    "duration": 50,
    "start_time": "2023-05-12T11:33:40.313Z"
   },
   {
    "duration": 13,
    "start_time": "2023-05-12T11:33:40.365Z"
   },
   {
    "duration": 31,
    "start_time": "2023-05-12T11:33:40.380Z"
   },
   {
    "duration": 14,
    "start_time": "2023-05-12T11:33:40.413Z"
   },
   {
    "duration": 18,
    "start_time": "2023-05-12T11:33:40.429Z"
   },
   {
    "duration": 11,
    "start_time": "2023-05-12T11:33:40.449Z"
   },
   {
    "duration": 249,
    "start_time": "2023-05-12T11:33:40.462Z"
   },
   {
    "duration": 480,
    "start_time": "2023-05-12T11:33:40.713Z"
   },
   {
    "duration": 20,
    "start_time": "2023-05-12T11:33:41.196Z"
   },
   {
    "duration": 117,
    "start_time": "2023-05-12T11:33:41.218Z"
   },
   {
    "duration": 19,
    "start_time": "2023-05-12T11:33:41.337Z"
   },
   {
    "duration": 3299,
    "start_time": "2023-05-12T11:33:41.359Z"
   },
   {
    "duration": 72153,
    "start_time": "2023-05-12T11:33:44.660Z"
   },
   {
    "duration": 111093,
    "start_time": "2023-05-12T11:34:56.815Z"
   },
   {
    "duration": 0,
    "start_time": "2023-05-12T11:36:47.910Z"
   },
   {
    "duration": 2332,
    "start_time": "2023-05-12T11:36:51.585Z"
   },
   {
    "duration": 50424,
    "start_time": "2023-05-12T11:37:09.355Z"
   },
   {
    "duration": 15316,
    "start_time": "2023-05-12T11:38:02.648Z"
   },
   {
    "duration": 29819,
    "start_time": "2023-05-12T11:39:11.048Z"
   },
   {
    "duration": 26,
    "start_time": "2023-05-12T11:39:58.482Z"
   },
   {
    "duration": 26,
    "start_time": "2023-05-12T11:40:24.112Z"
   },
   {
    "duration": 23,
    "start_time": "2023-05-12T11:40:39.462Z"
   },
   {
    "duration": 38,
    "start_time": "2023-05-12T11:40:44.303Z"
   },
   {
    "duration": 23,
    "start_time": "2023-05-12T11:41:02.864Z"
   },
   {
    "duration": 1609,
    "start_time": "2023-05-12T11:41:08.241Z"
   },
   {
    "duration": 51,
    "start_time": "2023-05-12T11:41:09.852Z"
   },
   {
    "duration": 13,
    "start_time": "2023-05-12T11:41:09.904Z"
   },
   {
    "duration": 5,
    "start_time": "2023-05-12T11:41:09.919Z"
   },
   {
    "duration": 5,
    "start_time": "2023-05-12T11:41:09.926Z"
   },
   {
    "duration": 8,
    "start_time": "2023-05-12T11:41:09.933Z"
   },
   {
    "duration": 16,
    "start_time": "2023-05-12T11:41:09.943Z"
   },
   {
    "duration": 242,
    "start_time": "2023-05-12T11:41:09.961Z"
   },
   {
    "duration": 472,
    "start_time": "2023-05-12T11:41:10.205Z"
   },
   {
    "duration": 18,
    "start_time": "2023-05-12T11:41:10.680Z"
   },
   {
    "duration": 124,
    "start_time": "2023-05-12T11:41:10.700Z"
   },
   {
    "duration": 13,
    "start_time": "2023-05-12T11:41:10.826Z"
   },
   {
    "duration": 45,
    "start_time": "2023-05-12T11:41:10.841Z"
   },
   {
    "duration": 3271,
    "start_time": "2023-05-12T11:41:10.888Z"
   },
   {
    "duration": 68841,
    "start_time": "2023-05-12T11:41:14.161Z"
   },
   {
    "duration": 31953,
    "start_time": "2023-05-12T11:42:23.005Z"
   },
   {
    "duration": 3102,
    "start_time": "2023-05-12T11:42:54.960Z"
   },
   {
    "duration": 479,
    "start_time": "2023-05-12T11:43:27.995Z"
   },
   {
    "duration": 1423,
    "start_time": "2023-05-12T11:43:35.936Z"
   },
   {
    "duration": 1132,
    "start_time": "2023-05-12T11:44:22.600Z"
   },
   {
    "duration": 4,
    "start_time": "2023-05-12T11:44:40.735Z"
   },
   {
    "duration": 49,
    "start_time": "2023-05-12T11:44:41.165Z"
   },
   {
    "duration": 11,
    "start_time": "2023-05-12T11:44:41.593Z"
   },
   {
    "duration": 4,
    "start_time": "2023-05-12T11:44:42.333Z"
   },
   {
    "duration": 5,
    "start_time": "2023-05-12T11:44:42.857Z"
   },
   {
    "duration": 8,
    "start_time": "2023-05-12T11:44:43.544Z"
   },
   {
    "duration": 8,
    "start_time": "2023-05-12T11:44:46.276Z"
   },
   {
    "duration": 311,
    "start_time": "2023-05-12T11:44:47.354Z"
   },
   {
    "duration": 8,
    "start_time": "2023-05-12T11:47:50.939Z"
   },
   {
    "duration": 1519,
    "start_time": "2023-05-12T11:48:28.597Z"
   },
   {
    "duration": 48,
    "start_time": "2023-05-12T11:48:30.118Z"
   },
   {
    "duration": 27,
    "start_time": "2023-05-12T11:48:30.168Z"
   },
   {
    "duration": 36,
    "start_time": "2023-05-12T11:48:30.198Z"
   },
   {
    "duration": 41,
    "start_time": "2023-05-12T11:48:30.235Z"
   },
   {
    "duration": 47,
    "start_time": "2023-05-12T11:48:30.278Z"
   },
   {
    "duration": 59,
    "start_time": "2023-05-12T11:48:30.328Z"
   },
   {
    "duration": 368,
    "start_time": "2023-05-12T11:48:30.389Z"
   },
   {
    "duration": 10,
    "start_time": "2023-05-12T11:48:30.760Z"
   },
   {
    "duration": 499,
    "start_time": "2023-05-12T11:48:30.772Z"
   },
   {
    "duration": 458,
    "start_time": "2023-05-12T11:48:31.274Z"
   },
   {
    "duration": 36,
    "start_time": "2023-05-12T11:48:31.734Z"
   },
   {
    "duration": 26,
    "start_time": "2023-05-12T11:48:31.771Z"
   },
   {
    "duration": 19,
    "start_time": "2023-05-12T11:48:31.800Z"
   },
   {
    "duration": 58,
    "start_time": "2023-05-12T11:48:31.821Z"
   },
   {
    "duration": 3078,
    "start_time": "2023-05-12T11:48:31.882Z"
   },
   {
    "duration": 70163,
    "start_time": "2023-05-12T11:48:34.962Z"
   },
   {
    "duration": 28830,
    "start_time": "2023-05-12T11:49:45.127Z"
   },
   {
    "duration": 3218,
    "start_time": "2023-05-12T11:50:13.959Z"
   },
   {
    "duration": 115,
    "start_time": "2023-05-12T11:50:18.246Z"
   },
   {
    "duration": 1472,
    "start_time": "2023-05-12T11:50:30.560Z"
   },
   {
    "duration": 48,
    "start_time": "2023-05-12T11:50:32.034Z"
   },
   {
    "duration": 11,
    "start_time": "2023-05-12T11:50:32.084Z"
   },
   {
    "duration": 21,
    "start_time": "2023-05-12T11:50:32.098Z"
   },
   {
    "duration": 25,
    "start_time": "2023-05-12T11:50:32.121Z"
   },
   {
    "duration": 19,
    "start_time": "2023-05-12T11:50:32.148Z"
   },
   {
    "duration": 20,
    "start_time": "2023-05-12T11:50:32.169Z"
   },
   {
    "duration": 342,
    "start_time": "2023-05-12T11:50:32.191Z"
   },
   {
    "duration": 9,
    "start_time": "2023-05-12T11:50:32.535Z"
   },
   {
    "duration": 492,
    "start_time": "2023-05-12T11:50:32.546Z"
   },
   {
    "duration": 136,
    "start_time": "2023-05-12T11:50:33.041Z"
   },
   {
    "duration": 0,
    "start_time": "2023-05-12T11:50:33.179Z"
   },
   {
    "duration": 0,
    "start_time": "2023-05-12T11:50:33.181Z"
   },
   {
    "duration": 0,
    "start_time": "2023-05-12T11:50:33.181Z"
   },
   {
    "duration": 1,
    "start_time": "2023-05-12T11:50:33.182Z"
   },
   {
    "duration": 0,
    "start_time": "2023-05-12T11:50:33.184Z"
   },
   {
    "duration": 0,
    "start_time": "2023-05-12T11:50:33.186Z"
   },
   {
    "duration": 1,
    "start_time": "2023-05-12T11:50:33.186Z"
   },
   {
    "duration": 0,
    "start_time": "2023-05-12T11:50:33.188Z"
   },
   {
    "duration": 11,
    "start_time": "2023-05-12T11:51:06.924Z"
   },
   {
    "duration": 6,
    "start_time": "2023-05-12T11:52:19.245Z"
   },
   {
    "duration": 33,
    "start_time": "2023-05-12T11:52:19.921Z"
   },
   {
    "duration": 18,
    "start_time": "2023-05-12T11:53:08.156Z"
   },
   {
    "duration": 476,
    "start_time": "2023-05-12T11:53:08.784Z"
   },
   {
    "duration": 7,
    "start_time": "2023-05-12T11:53:10.346Z"
   },
   {
    "duration": 23,
    "start_time": "2023-05-12T11:53:13.124Z"
   },
   {
    "duration": 15,
    "start_time": "2023-05-12T11:54:28.840Z"
   },
   {
    "duration": 353,
    "start_time": "2023-05-12T11:54:29.416Z"
   },
   {
    "duration": 22,
    "start_time": "2023-05-12T11:54:38.225Z"
   },
   {
    "duration": 10,
    "start_time": "2023-05-12T11:55:17.143Z"
   },
   {
    "duration": 11,
    "start_time": "2023-05-12T11:55:41.658Z"
   },
   {
    "duration": 11,
    "start_time": "2023-05-12T11:56:11.223Z"
   },
   {
    "duration": 384,
    "start_time": "2023-05-12T11:56:11.966Z"
   },
   {
    "duration": 10,
    "start_time": "2023-05-12T11:56:12.670Z"
   },
   {
    "duration": 13,
    "start_time": "2023-05-12T11:56:14.346Z"
   },
   {
    "duration": 20,
    "start_time": "2023-05-12T11:56:39.341Z"
   },
   {
    "duration": 531,
    "start_time": "2023-05-12T11:56:40.086Z"
   },
   {
    "duration": 11,
    "start_time": "2023-05-12T11:56:48.256Z"
   },
   {
    "duration": 13,
    "start_time": "2023-05-12T11:56:51.798Z"
   },
   {
    "duration": 23,
    "start_time": "2023-05-12T11:57:11.489Z"
   },
   {
    "duration": 4,
    "start_time": "2023-05-12T11:57:45.842Z"
   },
   {
    "duration": 786,
    "start_time": "2023-05-12T11:59:56.889Z"
   },
   {
    "duration": 0,
    "start_time": "2023-05-12T11:59:57.677Z"
   },
   {
    "duration": 794,
    "start_time": "2023-05-12T12:00:19.759Z"
   },
   {
    "duration": 1118,
    "start_time": "2023-05-12T12:00:33.011Z"
   },
   {
    "duration": 8,
    "start_time": "2023-05-12T12:00:39.353Z"
   },
   {
    "duration": 11,
    "start_time": "2023-05-12T12:00:47.111Z"
   },
   {
    "duration": 900,
    "start_time": "2023-05-12T12:00:53.266Z"
   },
   {
    "duration": 10,
    "start_time": "2023-05-12T12:01:14.740Z"
   },
   {
    "duration": 13,
    "start_time": "2023-05-12T12:01:26.929Z"
   },
   {
    "duration": 406,
    "start_time": "2023-05-12T12:01:28.318Z"
   },
   {
    "duration": 9,
    "start_time": "2023-05-12T12:01:31.718Z"
   },
   {
    "duration": 20,
    "start_time": "2023-05-12T12:01:36.422Z"
   },
   {
    "duration": 21,
    "start_time": "2023-05-12T12:02:25.611Z"
   },
   {
    "duration": 1460,
    "start_time": "2023-05-12T12:02:41.389Z"
   },
   {
    "duration": 46,
    "start_time": "2023-05-12T12:02:42.851Z"
   },
   {
    "duration": 11,
    "start_time": "2023-05-12T12:02:42.898Z"
   },
   {
    "duration": 9,
    "start_time": "2023-05-12T12:02:42.911Z"
   },
   {
    "duration": 12,
    "start_time": "2023-05-12T12:02:42.921Z"
   },
   {
    "duration": 23,
    "start_time": "2023-05-12T12:02:42.935Z"
   },
   {
    "duration": 31,
    "start_time": "2023-05-12T12:02:42.960Z"
   },
   {
    "duration": 372,
    "start_time": "2023-05-12T12:02:42.993Z"
   },
   {
    "duration": 15,
    "start_time": "2023-05-12T12:02:43.367Z"
   },
   {
    "duration": 467,
    "start_time": "2023-05-12T12:02:43.384Z"
   },
   {
    "duration": 11,
    "start_time": "2023-05-12T12:02:43.857Z"
   },
   {
    "duration": 143,
    "start_time": "2023-05-12T12:02:43.870Z"
   },
   {
    "duration": 0,
    "start_time": "2023-05-12T12:02:44.016Z"
   },
   {
    "duration": 0,
    "start_time": "2023-05-12T12:02:44.017Z"
   },
   {
    "duration": 0,
    "start_time": "2023-05-12T12:02:44.019Z"
   },
   {
    "duration": 0,
    "start_time": "2023-05-12T12:02:44.021Z"
   },
   {
    "duration": 0,
    "start_time": "2023-05-12T12:02:44.022Z"
   },
   {
    "duration": 0,
    "start_time": "2023-05-12T12:02:44.024Z"
   },
   {
    "duration": 0,
    "start_time": "2023-05-12T12:02:44.025Z"
   },
   {
    "duration": 0,
    "start_time": "2023-05-12T12:02:44.027Z"
   },
   {
    "duration": 8,
    "start_time": "2023-05-12T12:03:30.649Z"
   },
   {
    "duration": 7,
    "start_time": "2023-05-12T12:04:14.133Z"
   },
   {
    "duration": 350,
    "start_time": "2023-05-12T12:05:44.986Z"
   },
   {
    "duration": 11,
    "start_time": "2023-05-12T12:06:51.337Z"
   },
   {
    "duration": 14,
    "start_time": "2023-05-12T12:07:03.036Z"
   },
   {
    "duration": 11,
    "start_time": "2023-05-12T12:07:08.386Z"
   },
   {
    "duration": 184,
    "start_time": "2023-05-12T12:07:34.037Z"
   },
   {
    "duration": 210,
    "start_time": "2023-05-12T12:08:18.429Z"
   },
   {
    "duration": 287,
    "start_time": "2023-05-12T12:09:05.282Z"
   },
   {
    "duration": 248,
    "start_time": "2023-05-12T12:09:51.617Z"
   },
   {
    "duration": 228,
    "start_time": "2023-05-12T12:09:54.149Z"
   },
   {
    "duration": 296,
    "start_time": "2023-05-12T12:09:57.536Z"
   },
   {
    "duration": 246,
    "start_time": "2023-05-12T12:10:31.239Z"
   },
   {
    "duration": 1553,
    "start_time": "2023-05-12T12:11:39.729Z"
   },
   {
    "duration": 60,
    "start_time": "2023-05-12T12:11:41.284Z"
   },
   {
    "duration": 14,
    "start_time": "2023-05-12T12:11:41.346Z"
   },
   {
    "duration": 18,
    "start_time": "2023-05-12T12:11:41.362Z"
   },
   {
    "duration": 21,
    "start_time": "2023-05-12T12:11:41.382Z"
   },
   {
    "duration": 42,
    "start_time": "2023-05-12T12:11:41.405Z"
   },
   {
    "duration": 89,
    "start_time": "2023-05-12T12:11:41.449Z"
   },
   {
    "duration": 417,
    "start_time": "2023-05-12T12:11:41.540Z"
   },
   {
    "duration": 14,
    "start_time": "2023-05-12T12:11:41.960Z"
   },
   {
    "duration": 498,
    "start_time": "2023-05-12T12:11:41.978Z"
   },
   {
    "duration": 10,
    "start_time": "2023-05-12T12:11:42.478Z"
   },
   {
    "duration": 25,
    "start_time": "2023-05-12T12:11:42.490Z"
   },
   {
    "duration": 229,
    "start_time": "2023-05-12T12:11:42.517Z"
   },
   {
    "duration": 240,
    "start_time": "2023-05-12T12:11:42.749Z"
   },
   {
    "duration": 307,
    "start_time": "2023-05-12T12:11:42.992Z"
   },
   {
    "duration": 211,
    "start_time": "2023-05-12T12:11:43.301Z"
   },
   {
    "duration": 20,
    "start_time": "2023-05-12T12:11:43.514Z"
   },
   {
    "duration": 40,
    "start_time": "2023-05-12T12:11:43.536Z"
   },
   {
    "duration": 16,
    "start_time": "2023-05-12T12:11:43.579Z"
   },
   {
    "duration": 26,
    "start_time": "2023-05-12T12:11:43.598Z"
   },
   {
    "duration": 3733,
    "start_time": "2023-05-12T12:11:43.627Z"
   },
   {
    "duration": 82192,
    "start_time": "2023-05-12T12:11:47.362Z"
   },
   {
    "duration": 1502,
    "start_time": "2023-05-12T12:17:11.991Z"
   },
   {
    "duration": 61,
    "start_time": "2023-05-12T12:17:13.495Z"
   },
   {
    "duration": 15,
    "start_time": "2023-05-12T12:17:13.558Z"
   },
   {
    "duration": 7,
    "start_time": "2023-05-12T12:17:13.576Z"
   },
   {
    "duration": 12,
    "start_time": "2023-05-12T12:17:13.586Z"
   },
   {
    "duration": 17,
    "start_time": "2023-05-12T12:17:13.600Z"
   },
   {
    "duration": 38,
    "start_time": "2023-05-12T12:17:13.619Z"
   },
   {
    "duration": 377,
    "start_time": "2023-05-12T12:17:13.659Z"
   },
   {
    "duration": 22,
    "start_time": "2023-05-12T12:17:14.039Z"
   },
   {
    "duration": 559,
    "start_time": "2023-05-12T12:17:14.064Z"
   },
   {
    "duration": 30,
    "start_time": "2023-05-12T12:17:14.626Z"
   },
   {
    "duration": 12,
    "start_time": "2023-05-12T12:17:14.659Z"
   },
   {
    "duration": 307,
    "start_time": "2023-05-12T12:17:14.673Z"
   },
   {
    "duration": 245,
    "start_time": "2023-05-12T12:17:14.984Z"
   },
   {
    "duration": 240,
    "start_time": "2023-05-12T12:17:15.232Z"
   },
   {
    "duration": 225,
    "start_time": "2023-05-12T12:17:15.474Z"
   },
   {
    "duration": 21,
    "start_time": "2023-05-12T12:17:15.701Z"
   },
   {
    "duration": 52,
    "start_time": "2023-05-12T12:17:15.724Z"
   },
   {
    "duration": 17,
    "start_time": "2023-05-12T12:17:15.779Z"
   },
   {
    "duration": 5167,
    "start_time": "2023-05-12T12:17:15.798Z"
   },
   {
    "duration": 91181,
    "start_time": "2023-05-12T12:17:20.970Z"
   },
   {
    "duration": 298814,
    "start_time": "2023-05-12T12:18:52.153Z"
   },
   {
    "duration": 0,
    "start_time": "2023-05-12T12:23:50.969Z"
   },
   {
    "duration": 0,
    "start_time": "2023-05-12T12:23:50.970Z"
   },
   {
    "duration": 4678,
    "start_time": "2023-05-12T12:23:53.742Z"
   },
   {
    "duration": 1561,
    "start_time": "2023-05-12T12:24:53.689Z"
   },
   {
    "duration": 57,
    "start_time": "2023-05-12T12:24:55.253Z"
   },
   {
    "duration": 19,
    "start_time": "2023-05-12T12:24:55.313Z"
   },
   {
    "duration": 46,
    "start_time": "2023-05-12T12:24:55.335Z"
   },
   {
    "duration": 26,
    "start_time": "2023-05-12T12:24:55.383Z"
   },
   {
    "duration": 35,
    "start_time": "2023-05-12T12:24:55.411Z"
   },
   {
    "duration": 28,
    "start_time": "2023-05-12T12:24:55.450Z"
   },
   {
    "duration": 421,
    "start_time": "2023-05-12T12:24:55.480Z"
   },
   {
    "duration": 14,
    "start_time": "2023-05-12T12:24:55.903Z"
   },
   {
    "duration": 494,
    "start_time": "2023-05-12T12:24:55.920Z"
   },
   {
    "duration": 10,
    "start_time": "2023-05-12T12:24:56.416Z"
   },
   {
    "duration": 34,
    "start_time": "2023-05-12T12:24:56.428Z"
   },
   {
    "duration": 236,
    "start_time": "2023-05-12T12:24:56.464Z"
   },
   {
    "duration": 223,
    "start_time": "2023-05-12T12:24:56.702Z"
   },
   {
    "duration": 234,
    "start_time": "2023-05-12T12:24:56.927Z"
   },
   {
    "duration": 231,
    "start_time": "2023-05-12T12:24:57.164Z"
   },
   {
    "duration": 22,
    "start_time": "2023-05-12T12:24:57.397Z"
   },
   {
    "duration": 42,
    "start_time": "2023-05-12T12:24:57.421Z"
   },
   {
    "duration": 13,
    "start_time": "2023-05-12T12:24:57.465Z"
   },
   {
    "duration": 3878,
    "start_time": "2023-05-12T12:24:57.479Z"
   },
   {
    "duration": 75180,
    "start_time": "2023-05-12T12:25:01.360Z"
   },
   {
    "duration": 143000,
    "start_time": "2023-05-12T12:26:16.542Z"
   },
   {
    "duration": 0,
    "start_time": "2023-05-12T12:28:39.545Z"
   },
   {
    "duration": 0,
    "start_time": "2023-05-12T12:28:39.546Z"
   },
   {
    "duration": 3416,
    "start_time": "2023-05-12T12:28:41.972Z"
   },
   {
    "duration": 201462,
    "start_time": "2023-05-12T12:29:44.017Z"
   },
   {
    "duration": 0,
    "start_time": "2023-05-12T12:33:05.558Z"
   },
   {
    "duration": 1551,
    "start_time": "2023-05-12T12:33:29.922Z"
   },
   {
    "duration": 49,
    "start_time": "2023-05-12T12:33:31.475Z"
   },
   {
    "duration": 13,
    "start_time": "2023-05-12T12:33:31.526Z"
   },
   {
    "duration": 30,
    "start_time": "2023-05-12T12:33:31.542Z"
   },
   {
    "duration": 35,
    "start_time": "2023-05-12T12:33:31.573Z"
   },
   {
    "duration": 37,
    "start_time": "2023-05-12T12:33:31.609Z"
   },
   {
    "duration": 25,
    "start_time": "2023-05-12T12:33:31.648Z"
   },
   {
    "duration": 462,
    "start_time": "2023-05-12T12:33:31.675Z"
   },
   {
    "duration": 14,
    "start_time": "2023-05-12T12:33:32.139Z"
   },
   {
    "duration": 536,
    "start_time": "2023-05-12T12:33:32.156Z"
   },
   {
    "duration": 10,
    "start_time": "2023-05-12T12:33:32.694Z"
   },
   {
    "duration": 11,
    "start_time": "2023-05-12T12:33:32.706Z"
   },
   {
    "duration": 248,
    "start_time": "2023-05-12T12:33:32.719Z"
   },
   {
    "duration": 242,
    "start_time": "2023-05-12T12:33:32.970Z"
   },
   {
    "duration": 252,
    "start_time": "2023-05-12T12:33:33.214Z"
   },
   {
    "duration": 209,
    "start_time": "2023-05-12T12:33:33.468Z"
   },
   {
    "duration": 25,
    "start_time": "2023-05-12T12:33:33.680Z"
   },
   {
    "duration": 51,
    "start_time": "2023-05-12T12:33:33.707Z"
   },
   {
    "duration": 19,
    "start_time": "2023-05-12T12:33:33.761Z"
   },
   {
    "duration": 5,
    "start_time": "2023-05-12T12:33:33.783Z"
   },
   {
    "duration": 4077,
    "start_time": "2023-05-12T12:33:33.790Z"
   },
   {
    "duration": 73419,
    "start_time": "2023-05-12T12:33:37.870Z"
   },
   {
    "duration": 135,
    "start_time": "2023-05-12T12:34:51.290Z"
   },
   {
    "duration": 0,
    "start_time": "2023-05-12T12:34:51.427Z"
   },
   {
    "duration": 78289,
    "start_time": "2023-05-12T12:36:29.226Z"
   },
   {
    "duration": 3299,
    "start_time": "2023-05-12T12:38:56.831Z"
   },
   {
    "duration": 1517,
    "start_time": "2023-05-12T12:59:58.518Z"
   },
   {
    "duration": 49,
    "start_time": "2023-05-12T13:00:00.037Z"
   },
   {
    "duration": 13,
    "start_time": "2023-05-12T13:00:00.089Z"
   },
   {
    "duration": 51,
    "start_time": "2023-05-12T13:00:00.104Z"
   },
   {
    "duration": 75,
    "start_time": "2023-05-12T13:00:00.158Z"
   },
   {
    "duration": 122,
    "start_time": "2023-05-12T13:00:00.235Z"
   },
   {
    "duration": 44,
    "start_time": "2023-05-12T13:00:00.359Z"
   },
   {
    "duration": 384,
    "start_time": "2023-05-12T13:00:00.405Z"
   },
   {
    "duration": 16,
    "start_time": "2023-05-12T13:00:00.791Z"
   },
   {
    "duration": 547,
    "start_time": "2023-05-12T13:00:00.809Z"
   },
   {
    "duration": 10,
    "start_time": "2023-05-12T13:00:01.358Z"
   },
   {
    "duration": 63,
    "start_time": "2023-05-12T13:00:01.370Z"
   },
   {
    "duration": 280,
    "start_time": "2023-05-12T13:00:01.435Z"
   },
   {
    "duration": 239,
    "start_time": "2023-05-12T13:00:01.717Z"
   },
   {
    "duration": 235,
    "start_time": "2023-05-12T13:00:01.958Z"
   },
   {
    "duration": 189,
    "start_time": "2023-05-12T13:00:02.195Z"
   },
   {
    "duration": 20,
    "start_time": "2023-05-12T13:00:02.385Z"
   },
   {
    "duration": 90,
    "start_time": "2023-05-12T13:00:02.407Z"
   },
   {
    "duration": 29,
    "start_time": "2023-05-12T13:00:02.498Z"
   },
   {
    "duration": 37,
    "start_time": "2023-05-12T13:00:02.529Z"
   },
   {
    "duration": 3591,
    "start_time": "2023-05-12T13:00:02.568Z"
   },
   {
    "duration": 77661,
    "start_time": "2023-05-12T13:00:06.161Z"
   },
   {
    "duration": 77915,
    "start_time": "2023-05-12T13:01:23.824Z"
   },
   {
    "duration": 3240,
    "start_time": "2023-05-12T13:02:41.741Z"
   },
   {
    "duration": 2483,
    "start_time": "2023-05-12T13:21:38.782Z"
   },
   {
    "duration": 327,
    "start_time": "2023-05-12T13:21:41.267Z"
   },
   {
    "duration": 17,
    "start_time": "2023-05-12T13:21:41.596Z"
   },
   {
    "duration": 9,
    "start_time": "2023-05-12T13:21:41.615Z"
   },
   {
    "duration": 5,
    "start_time": "2023-05-12T13:21:41.627Z"
   },
   {
    "duration": 32,
    "start_time": "2023-05-12T13:21:41.635Z"
   },
   {
    "duration": 24,
    "start_time": "2023-05-12T13:21:41.671Z"
   },
   {
    "duration": 414,
    "start_time": "2023-05-12T13:21:41.698Z"
   },
   {
    "duration": 15,
    "start_time": "2023-05-12T13:21:42.114Z"
   },
   {
    "duration": 1851,
    "start_time": "2023-05-12T13:45:22.626Z"
   },
   {
    "duration": 0,
    "start_time": "2023-05-12T13:45:24.480Z"
   },
   {
    "duration": 0,
    "start_time": "2023-05-12T13:45:24.481Z"
   },
   {
    "duration": 0,
    "start_time": "2023-05-12T13:45:24.482Z"
   },
   {
    "duration": 0,
    "start_time": "2023-05-12T13:45:24.483Z"
   },
   {
    "duration": 0,
    "start_time": "2023-05-12T13:45:24.484Z"
   },
   {
    "duration": 0,
    "start_time": "2023-05-12T13:45:24.485Z"
   },
   {
    "duration": 0,
    "start_time": "2023-05-12T13:45:24.487Z"
   },
   {
    "duration": 0,
    "start_time": "2023-05-12T13:45:24.487Z"
   },
   {
    "duration": 0,
    "start_time": "2023-05-12T13:45:24.489Z"
   },
   {
    "duration": 0,
    "start_time": "2023-05-12T13:45:24.489Z"
   },
   {
    "duration": 0,
    "start_time": "2023-05-12T13:45:24.490Z"
   },
   {
    "duration": 0,
    "start_time": "2023-05-12T13:45:24.491Z"
   },
   {
    "duration": 0,
    "start_time": "2023-05-12T13:45:24.492Z"
   },
   {
    "duration": 0,
    "start_time": "2023-05-12T13:45:24.493Z"
   },
   {
    "duration": 0,
    "start_time": "2023-05-12T13:45:24.494Z"
   },
   {
    "duration": 0,
    "start_time": "2023-05-12T13:45:24.495Z"
   },
   {
    "duration": 0,
    "start_time": "2023-05-12T13:45:24.496Z"
   },
   {
    "duration": 0,
    "start_time": "2023-05-12T13:45:24.497Z"
   },
   {
    "duration": 0,
    "start_time": "2023-05-12T13:45:24.498Z"
   },
   {
    "duration": 0,
    "start_time": "2023-05-12T13:45:24.499Z"
   },
   {
    "duration": 0,
    "start_time": "2023-05-12T13:45:24.500Z"
   },
   {
    "duration": 0,
    "start_time": "2023-05-12T13:45:24.501Z"
   },
   {
    "duration": 0,
    "start_time": "2023-05-12T13:45:24.502Z"
   },
   {
    "duration": 0,
    "start_time": "2023-05-12T13:45:24.503Z"
   },
   {
    "duration": 2275,
    "start_time": "2023-05-12T13:45:55.857Z"
   },
   {
    "duration": 0,
    "start_time": "2023-05-12T13:45:58.134Z"
   },
   {
    "duration": 0,
    "start_time": "2023-05-12T13:45:58.136Z"
   },
   {
    "duration": 0,
    "start_time": "2023-05-12T13:45:58.137Z"
   },
   {
    "duration": 0,
    "start_time": "2023-05-12T13:45:58.138Z"
   },
   {
    "duration": 0,
    "start_time": "2023-05-12T13:45:58.139Z"
   },
   {
    "duration": 0,
    "start_time": "2023-05-12T13:45:58.142Z"
   },
   {
    "duration": 0,
    "start_time": "2023-05-12T13:45:58.157Z"
   },
   {
    "duration": 0,
    "start_time": "2023-05-12T13:45:58.159Z"
   },
   {
    "duration": 0,
    "start_time": "2023-05-12T13:45:58.161Z"
   },
   {
    "duration": 0,
    "start_time": "2023-05-12T13:45:58.162Z"
   },
   {
    "duration": 0,
    "start_time": "2023-05-12T13:45:58.164Z"
   },
   {
    "duration": 0,
    "start_time": "2023-05-12T13:45:58.165Z"
   },
   {
    "duration": 0,
    "start_time": "2023-05-12T13:45:58.167Z"
   },
   {
    "duration": 0,
    "start_time": "2023-05-12T13:45:58.168Z"
   },
   {
    "duration": 0,
    "start_time": "2023-05-12T13:45:58.170Z"
   },
   {
    "duration": 0,
    "start_time": "2023-05-12T13:45:58.172Z"
   },
   {
    "duration": 1,
    "start_time": "2023-05-12T13:45:58.173Z"
   },
   {
    "duration": 0,
    "start_time": "2023-05-12T13:45:58.175Z"
   },
   {
    "duration": 0,
    "start_time": "2023-05-12T13:45:58.177Z"
   },
   {
    "duration": 1,
    "start_time": "2023-05-12T13:45:58.178Z"
   },
   {
    "duration": 0,
    "start_time": "2023-05-12T13:45:58.180Z"
   },
   {
    "duration": 0,
    "start_time": "2023-05-12T13:45:58.182Z"
   },
   {
    "duration": 0,
    "start_time": "2023-05-12T13:45:58.183Z"
   },
   {
    "duration": 0,
    "start_time": "2023-05-12T13:45:58.185Z"
   },
   {
    "duration": 12,
    "start_time": "2023-05-12T13:46:14.124Z"
   },
   {
    "duration": 6,
    "start_time": "2023-05-12T13:46:57.594Z"
   },
   {
    "duration": 2360,
    "start_time": "2023-05-12T13:47:04.062Z"
   },
   {
    "duration": 65,
    "start_time": "2023-05-12T13:47:06.424Z"
   },
   {
    "duration": 12,
    "start_time": "2023-05-12T13:47:06.491Z"
   },
   {
    "duration": 5,
    "start_time": "2023-05-12T13:47:06.504Z"
   },
   {
    "duration": 9,
    "start_time": "2023-05-12T13:47:06.512Z"
   },
   {
    "duration": 13,
    "start_time": "2023-05-12T13:47:06.522Z"
   },
   {
    "duration": 27,
    "start_time": "2023-05-12T13:47:06.537Z"
   },
   {
    "duration": 371,
    "start_time": "2023-05-12T13:47:06.566Z"
   },
   {
    "duration": 11,
    "start_time": "2023-05-12T13:47:06.939Z"
   },
   {
    "duration": 517,
    "start_time": "2023-05-12T13:47:06.952Z"
   },
   {
    "duration": 12,
    "start_time": "2023-05-12T13:47:07.471Z"
   },
   {
    "duration": 10,
    "start_time": "2023-05-12T13:47:07.485Z"
   },
   {
    "duration": 252,
    "start_time": "2023-05-12T13:47:07.498Z"
   },
   {
    "duration": 292,
    "start_time": "2023-05-12T13:47:07.757Z"
   },
   {
    "duration": 237,
    "start_time": "2023-05-12T13:47:08.051Z"
   },
   {
    "duration": 207,
    "start_time": "2023-05-12T13:47:08.290Z"
   },
   {
    "duration": 139,
    "start_time": "2023-05-12T13:47:08.499Z"
   },
   {
    "duration": 0,
    "start_time": "2023-05-12T13:47:08.640Z"
   },
   {
    "duration": 0,
    "start_time": "2023-05-12T13:47:08.641Z"
   },
   {
    "duration": 0,
    "start_time": "2023-05-12T13:47:08.643Z"
   },
   {
    "duration": 0,
    "start_time": "2023-05-12T13:47:08.644Z"
   },
   {
    "duration": 0,
    "start_time": "2023-05-12T13:47:08.656Z"
   },
   {
    "duration": 0,
    "start_time": "2023-05-12T13:47:08.657Z"
   },
   {
    "duration": 0,
    "start_time": "2023-05-12T13:47:08.659Z"
   },
   {
    "duration": 0,
    "start_time": "2023-05-12T13:47:08.661Z"
   },
   {
    "duration": 17,
    "start_time": "2023-05-12T13:47:40.318Z"
   },
   {
    "duration": 1502,
    "start_time": "2023-05-12T13:47:44.992Z"
   },
   {
    "duration": 45,
    "start_time": "2023-05-12T13:47:46.496Z"
   },
   {
    "duration": 11,
    "start_time": "2023-05-12T13:47:46.543Z"
   },
   {
    "duration": 26,
    "start_time": "2023-05-12T13:47:46.555Z"
   },
   {
    "duration": 17,
    "start_time": "2023-05-12T13:47:46.584Z"
   },
   {
    "duration": 47,
    "start_time": "2023-05-12T13:47:46.602Z"
   },
   {
    "duration": 43,
    "start_time": "2023-05-12T13:47:46.650Z"
   },
   {
    "duration": 350,
    "start_time": "2023-05-12T13:47:46.695Z"
   },
   {
    "duration": 11,
    "start_time": "2023-05-12T13:47:47.047Z"
   },
   {
    "duration": 542,
    "start_time": "2023-05-12T13:47:47.060Z"
   },
   {
    "duration": 11,
    "start_time": "2023-05-12T13:47:47.604Z"
   },
   {
    "duration": 15,
    "start_time": "2023-05-12T13:47:47.617Z"
   },
   {
    "duration": 237,
    "start_time": "2023-05-12T13:47:47.635Z"
   },
   {
    "duration": 310,
    "start_time": "2023-05-12T13:47:47.875Z"
   },
   {
    "duration": 261,
    "start_time": "2023-05-12T13:47:48.187Z"
   },
   {
    "duration": 201,
    "start_time": "2023-05-12T13:47:48.457Z"
   },
   {
    "duration": 20,
    "start_time": "2023-05-12T13:47:48.660Z"
   },
   {
    "duration": 39,
    "start_time": "2023-05-12T13:47:48.682Z"
   },
   {
    "duration": 23,
    "start_time": "2023-05-12T13:47:48.723Z"
   },
   {
    "duration": 9,
    "start_time": "2023-05-12T13:47:48.749Z"
   },
   {
    "duration": 4999,
    "start_time": "2023-05-12T13:47:48.760Z"
   },
   {
    "duration": 32083,
    "start_time": "2023-05-12T13:47:53.761Z"
   },
   {
    "duration": 24506,
    "start_time": "2023-05-12T13:48:25.846Z"
   },
   {
    "duration": 69107,
    "start_time": "2023-05-12T13:48:50.356Z"
   },
   {
    "duration": 2480,
    "start_time": "2023-05-12T13:49:59.465Z"
   },
   {
    "duration": 1501,
    "start_time": "2023-05-12T13:51:30.014Z"
   },
   {
    "duration": 48,
    "start_time": "2023-05-12T13:51:31.517Z"
   },
   {
    "duration": 12,
    "start_time": "2023-05-12T13:51:31.567Z"
   },
   {
    "duration": 21,
    "start_time": "2023-05-12T13:51:31.581Z"
   },
   {
    "duration": 29,
    "start_time": "2023-05-12T13:51:31.604Z"
   },
   {
    "duration": 38,
    "start_time": "2023-05-12T13:51:31.635Z"
   },
   {
    "duration": 40,
    "start_time": "2023-05-12T13:51:31.674Z"
   },
   {
    "duration": 417,
    "start_time": "2023-05-12T13:51:31.716Z"
   },
   {
    "duration": 11,
    "start_time": "2023-05-12T13:51:32.135Z"
   },
   {
    "duration": 494,
    "start_time": "2023-05-12T13:51:32.148Z"
   },
   {
    "duration": 14,
    "start_time": "2023-05-12T13:51:32.644Z"
   },
   {
    "duration": 9,
    "start_time": "2023-05-12T13:51:32.659Z"
   },
   {
    "duration": 235,
    "start_time": "2023-05-12T13:51:32.670Z"
   },
   {
    "duration": 313,
    "start_time": "2023-05-12T13:51:32.907Z"
   },
   {
    "duration": 255,
    "start_time": "2023-05-12T13:51:33.222Z"
   },
   {
    "duration": 198,
    "start_time": "2023-05-12T13:51:33.479Z"
   },
   {
    "duration": 20,
    "start_time": "2023-05-12T13:51:33.679Z"
   },
   {
    "duration": 20,
    "start_time": "2023-05-12T13:51:33.701Z"
   },
   {
    "duration": 40,
    "start_time": "2023-05-12T13:51:33.723Z"
   },
   {
    "duration": 4,
    "start_time": "2023-05-12T13:51:33.765Z"
   },
   {
    "duration": 6591,
    "start_time": "2023-05-12T13:51:33.771Z"
   },
   {
    "duration": 36036,
    "start_time": "2023-05-12T13:51:40.364Z"
   },
   {
    "duration": 25160,
    "start_time": "2023-05-12T13:52:16.401Z"
   },
   {
    "duration": 326602,
    "start_time": "2023-05-12T13:52:41.564Z"
   },
   {
    "duration": 2409,
    "start_time": "2023-05-12T13:58:08.168Z"
   },
   {
    "duration": 123,
    "start_time": "2023-05-12T13:59:02.960Z"
   },
   {
    "duration": 12,
    "start_time": "2023-05-12T14:00:05.436Z"
   },
   {
    "duration": 285,
    "start_time": "2023-05-12T14:00:18.911Z"
   },
   {
    "duration": 333,
    "start_time": "2023-05-12T14:02:49.376Z"
   },
   {
    "duration": 196,
    "start_time": "2023-05-12T14:03:19.793Z"
   },
   {
    "duration": 193,
    "start_time": "2023-05-12T14:03:25.592Z"
   },
   {
    "duration": 7,
    "start_time": "2023-05-12T14:03:49.789Z"
   },
   {
    "duration": 230,
    "start_time": "2023-05-12T14:05:08.299Z"
   },
   {
    "duration": 163,
    "start_time": "2023-05-12T14:05:26.542Z"
   },
   {
    "duration": 207,
    "start_time": "2023-05-12T14:05:36.078Z"
   },
   {
    "duration": 150,
    "start_time": "2023-05-12T14:06:45.581Z"
   },
   {
    "duration": 1548,
    "start_time": "2023-05-12T14:09:07.986Z"
   },
   {
    "duration": 50,
    "start_time": "2023-05-12T14:09:09.536Z"
   },
   {
    "duration": 11,
    "start_time": "2023-05-12T14:09:09.588Z"
   },
   {
    "duration": 5,
    "start_time": "2023-05-12T14:09:09.600Z"
   },
   {
    "duration": 4,
    "start_time": "2023-05-12T14:09:09.608Z"
   },
   {
    "duration": 13,
    "start_time": "2023-05-12T14:09:09.613Z"
   },
   {
    "duration": 8,
    "start_time": "2023-05-12T14:09:09.627Z"
   },
   {
    "duration": 388,
    "start_time": "2023-05-12T14:09:09.637Z"
   },
   {
    "duration": 11,
    "start_time": "2023-05-12T14:09:10.027Z"
   },
   {
    "duration": 488,
    "start_time": "2023-05-12T14:09:10.040Z"
   },
   {
    "duration": 10,
    "start_time": "2023-05-12T14:09:10.530Z"
   },
   {
    "duration": 11,
    "start_time": "2023-05-12T14:09:10.558Z"
   },
   {
    "duration": 230,
    "start_time": "2023-05-12T14:09:10.571Z"
   },
   {
    "duration": 310,
    "start_time": "2023-05-12T14:09:10.804Z"
   },
   {
    "duration": 232,
    "start_time": "2023-05-12T14:09:11.116Z"
   },
   {
    "duration": 179,
    "start_time": "2023-05-12T14:09:11.350Z"
   },
   {
    "duration": 26,
    "start_time": "2023-05-12T14:09:11.531Z"
   },
   {
    "duration": 25,
    "start_time": "2023-05-12T14:09:11.560Z"
   },
   {
    "duration": 16,
    "start_time": "2023-05-12T14:09:11.587Z"
   },
   {
    "duration": 9,
    "start_time": "2023-05-12T14:09:11.605Z"
   },
   {
    "duration": 4348,
    "start_time": "2023-05-12T14:09:11.616Z"
   },
   {
    "duration": 41997,
    "start_time": "2023-05-12T14:09:15.966Z"
   },
   {
    "duration": 24549,
    "start_time": "2023-05-12T14:09:57.965Z"
   },
   {
    "duration": 13548,
    "start_time": "2023-05-12T14:10:22.516Z"
   },
   {
    "duration": 3143,
    "start_time": "2023-05-12T14:10:36.066Z"
   },
   {
    "duration": 1417,
    "start_time": "2023-05-12T14:12:32.883Z"
   },
   {
    "duration": 45,
    "start_time": "2023-05-12T14:12:34.302Z"
   },
   {
    "duration": 11,
    "start_time": "2023-05-12T14:12:34.348Z"
   },
   {
    "duration": 5,
    "start_time": "2023-05-12T14:12:34.360Z"
   },
   {
    "duration": 5,
    "start_time": "2023-05-12T14:12:34.367Z"
   },
   {
    "duration": 10,
    "start_time": "2023-05-12T14:12:34.373Z"
   },
   {
    "duration": 8,
    "start_time": "2023-05-12T14:12:34.384Z"
   },
   {
    "duration": 348,
    "start_time": "2023-05-12T14:12:34.393Z"
   },
   {
    "duration": 11,
    "start_time": "2023-05-12T14:12:34.743Z"
   },
   {
    "duration": 472,
    "start_time": "2023-05-12T14:12:34.756Z"
   },
   {
    "duration": 12,
    "start_time": "2023-05-12T14:12:35.230Z"
   },
   {
    "duration": 17,
    "start_time": "2023-05-12T14:12:35.256Z"
   },
   {
    "duration": 203,
    "start_time": "2023-05-12T14:12:35.274Z"
   },
   {
    "duration": 283,
    "start_time": "2023-05-12T14:12:35.480Z"
   },
   {
    "duration": 238,
    "start_time": "2023-05-12T14:12:35.765Z"
   },
   {
    "duration": 184,
    "start_time": "2023-05-12T14:12:36.005Z"
   },
   {
    "duration": 19,
    "start_time": "2023-05-12T14:12:36.191Z"
   },
   {
    "duration": 20,
    "start_time": "2023-05-12T14:12:36.212Z"
   },
   {
    "duration": 13,
    "start_time": "2023-05-12T14:12:36.257Z"
   },
   {
    "duration": 19,
    "start_time": "2023-05-12T14:12:36.273Z"
   },
   {
    "duration": 6264,
    "start_time": "2023-05-12T14:12:36.295Z"
   },
   {
    "duration": 38722,
    "start_time": "2023-05-12T14:12:42.562Z"
   },
   {
    "duration": 24166,
    "start_time": "2023-05-12T14:13:21.285Z"
   },
   {
    "duration": 15202,
    "start_time": "2023-05-12T14:13:45.457Z"
   },
   {
    "duration": 3245,
    "start_time": "2023-05-12T14:14:00.661Z"
   },
   {
    "duration": 2293,
    "start_time": "2023-05-12T18:04:14.805Z"
   },
   {
    "duration": 135,
    "start_time": "2023-05-12T18:04:17.101Z"
   },
   {
    "duration": 14,
    "start_time": "2023-05-12T18:04:17.238Z"
   },
   {
    "duration": 26,
    "start_time": "2023-05-12T18:04:17.256Z"
   },
   {
    "duration": 45,
    "start_time": "2023-05-12T18:04:17.285Z"
   },
   {
    "duration": 27,
    "start_time": "2023-05-12T18:04:17.334Z"
   },
   {
    "duration": 24,
    "start_time": "2023-05-12T18:04:17.363Z"
   },
   {
    "duration": 524,
    "start_time": "2023-05-12T18:04:17.389Z"
   },
   {
    "duration": 17,
    "start_time": "2023-05-12T18:04:17.916Z"
   },
   {
    "duration": 600,
    "start_time": "2023-05-12T18:04:17.936Z"
   },
   {
    "duration": 10,
    "start_time": "2023-05-12T18:04:18.538Z"
   },
   {
    "duration": 1749,
    "start_time": "2023-05-12T18:19:38.784Z"
   },
   {
    "duration": 165,
    "start_time": "2023-05-12T18:19:40.535Z"
   },
   {
    "duration": 17,
    "start_time": "2023-05-12T18:19:40.702Z"
   },
   {
    "duration": 7,
    "start_time": "2023-05-12T18:19:40.722Z"
   },
   {
    "duration": 4,
    "start_time": "2023-05-12T18:19:40.731Z"
   },
   {
    "duration": 9,
    "start_time": "2023-05-12T18:19:40.737Z"
   },
   {
    "duration": 31,
    "start_time": "2023-05-12T18:19:40.747Z"
   },
   {
    "duration": 372,
    "start_time": "2023-05-12T18:19:40.779Z"
   },
   {
    "duration": 12,
    "start_time": "2023-05-12T18:19:41.152Z"
   },
   {
    "duration": 515,
    "start_time": "2023-05-12T18:19:41.167Z"
   },
   {
    "duration": 17,
    "start_time": "2023-05-12T18:19:41.683Z"
   },
   {
    "duration": 10,
    "start_time": "2023-05-12T18:19:41.702Z"
   },
   {
    "duration": 293,
    "start_time": "2023-05-12T18:19:41.714Z"
   },
   {
    "duration": 242,
    "start_time": "2023-05-12T18:19:42.010Z"
   },
   {
    "duration": 193,
    "start_time": "2023-05-12T18:19:42.253Z"
   },
   {
    "duration": 35,
    "start_time": "2023-05-12T18:19:42.448Z"
   },
   {
    "duration": 22,
    "start_time": "2023-05-12T18:19:42.484Z"
   },
   {
    "duration": 14,
    "start_time": "2023-05-12T18:19:42.508Z"
   },
   {
    "duration": 5,
    "start_time": "2023-05-12T18:19:42.523Z"
   },
   {
    "duration": 5978,
    "start_time": "2023-05-12T18:19:42.529Z"
   },
   {
    "duration": 49043,
    "start_time": "2023-05-12T18:19:48.578Z"
   },
   {
    "duration": 28797,
    "start_time": "2023-05-12T18:20:37.627Z"
   },
   {
    "duration": 1561,
    "start_time": "2023-05-12T18:38:54.630Z"
   },
   {
    "duration": 62,
    "start_time": "2023-05-12T18:38:56.193Z"
   },
   {
    "duration": 11,
    "start_time": "2023-05-12T18:38:56.259Z"
   },
   {
    "duration": 7,
    "start_time": "2023-05-12T18:38:56.273Z"
   },
   {
    "duration": 9,
    "start_time": "2023-05-12T18:38:56.282Z"
   },
   {
    "duration": 13,
    "start_time": "2023-05-12T18:38:56.298Z"
   },
   {
    "duration": 11,
    "start_time": "2023-05-12T18:38:56.314Z"
   },
   {
    "duration": 424,
    "start_time": "2023-05-12T18:38:56.327Z"
   },
   {
    "duration": 11,
    "start_time": "2023-05-12T18:38:56.753Z"
   },
   {
    "duration": 479,
    "start_time": "2023-05-12T18:38:56.767Z"
   },
   {
    "duration": 13,
    "start_time": "2023-05-12T18:38:57.248Z"
   },
   {
    "duration": 9,
    "start_time": "2023-05-12T18:38:57.284Z"
   },
   {
    "duration": 272,
    "start_time": "2023-05-12T18:38:57.295Z"
   },
   {
    "duration": 272,
    "start_time": "2023-05-12T18:38:57.569Z"
   },
   {
    "duration": 253,
    "start_time": "2023-05-12T18:38:57.844Z"
   },
   {
    "duration": 24,
    "start_time": "2023-05-12T18:38:58.101Z"
   },
   {
    "duration": 30,
    "start_time": "2023-05-12T18:38:58.128Z"
   },
   {
    "duration": 33,
    "start_time": "2023-05-12T18:38:58.160Z"
   },
   {
    "duration": 6,
    "start_time": "2023-05-12T18:38:58.195Z"
   },
   {
    "duration": 8810,
    "start_time": "2023-05-12T18:38:58.203Z"
   },
   {
    "duration": 48374,
    "start_time": "2023-05-12T18:39:07.089Z"
   },
   {
    "duration": 27541,
    "start_time": "2023-05-12T18:39:55.465Z"
   },
   {
    "duration": 315472,
    "start_time": "2023-05-12T18:40:23.009Z"
   },
   {
    "duration": 0,
    "start_time": "2023-05-12T18:45:38.483Z"
   },
   {
    "duration": 3867,
    "start_time": "2023-05-12T18:45:43.157Z"
   },
   {
    "duration": 1584,
    "start_time": "2023-05-13T04:52:04.892Z"
   },
   {
    "duration": 135,
    "start_time": "2023-05-13T04:52:06.480Z"
   },
   {
    "duration": 14,
    "start_time": "2023-05-13T04:52:06.617Z"
   },
   {
    "duration": 6,
    "start_time": "2023-05-13T04:52:06.633Z"
   },
   {
    "duration": 5,
    "start_time": "2023-05-13T04:52:06.640Z"
   },
   {
    "duration": 10,
    "start_time": "2023-05-13T04:52:06.647Z"
   },
   {
    "duration": 10,
    "start_time": "2023-05-13T04:52:06.659Z"
   },
   {
    "duration": 369,
    "start_time": "2023-05-13T04:52:06.671Z"
   },
   {
    "duration": 14,
    "start_time": "2023-05-13T04:52:07.042Z"
   },
   {
    "duration": 482,
    "start_time": "2023-05-13T04:52:07.059Z"
   },
   {
    "duration": 11,
    "start_time": "2023-05-13T04:52:07.543Z"
   },
   {
    "duration": 8,
    "start_time": "2023-05-13T04:52:07.556Z"
   },
   {
    "duration": 280,
    "start_time": "2023-05-13T04:52:07.566Z"
   },
   {
    "duration": 234,
    "start_time": "2023-05-13T04:52:07.850Z"
   },
   {
    "duration": 245,
    "start_time": "2023-05-13T04:52:08.086Z"
   },
   {
    "duration": 26,
    "start_time": "2023-05-13T04:52:08.333Z"
   },
   {
    "duration": 18,
    "start_time": "2023-05-13T04:52:08.361Z"
   },
   {
    "duration": 16,
    "start_time": "2023-05-13T04:52:08.381Z"
   },
   {
    "duration": 5,
    "start_time": "2023-05-13T04:52:08.399Z"
   },
   {
    "duration": 7149,
    "start_time": "2023-05-13T04:52:08.406Z"
   },
   {
    "duration": 46459,
    "start_time": "2023-05-13T04:52:15.562Z"
   },
   {
    "duration": 22904,
    "start_time": "2023-05-13T04:53:02.023Z"
   },
   {
    "duration": 186789,
    "start_time": "2023-05-13T04:53:24.931Z"
   },
   {
    "duration": 0,
    "start_time": "2023-05-13T04:56:31.723Z"
   },
   {
    "duration": 1408,
    "start_time": "2023-05-13T04:59:46.962Z"
   },
   {
    "duration": 50,
    "start_time": "2023-05-13T04:59:48.375Z"
   },
   {
    "duration": 13,
    "start_time": "2023-05-13T04:59:48.427Z"
   },
   {
    "duration": 6,
    "start_time": "2023-05-13T04:59:48.441Z"
   },
   {
    "duration": 12,
    "start_time": "2023-05-13T04:59:48.450Z"
   },
   {
    "duration": 8,
    "start_time": "2023-05-13T04:59:48.469Z"
   },
   {
    "duration": 14,
    "start_time": "2023-05-13T04:59:48.479Z"
   },
   {
    "duration": 316,
    "start_time": "2023-05-13T04:59:48.495Z"
   },
   {
    "duration": 12,
    "start_time": "2023-05-13T04:59:48.813Z"
   },
   {
    "duration": 451,
    "start_time": "2023-05-13T04:59:48.827Z"
   },
   {
    "duration": 8,
    "start_time": "2023-05-13T04:59:49.279Z"
   },
   {
    "duration": 11,
    "start_time": "2023-05-13T04:59:49.289Z"
   },
   {
    "duration": 248,
    "start_time": "2023-05-13T04:59:49.302Z"
   },
   {
    "duration": 217,
    "start_time": "2023-05-13T04:59:49.553Z"
   },
   {
    "duration": 167,
    "start_time": "2023-05-13T04:59:49.771Z"
   },
   {
    "duration": 21,
    "start_time": "2023-05-13T04:59:49.940Z"
   },
   {
    "duration": 20,
    "start_time": "2023-05-13T04:59:49.964Z"
   },
   {
    "duration": 17,
    "start_time": "2023-05-13T04:59:49.985Z"
   },
   {
    "duration": 5,
    "start_time": "2023-05-13T04:59:50.003Z"
   },
   {
    "duration": 5660,
    "start_time": "2023-05-13T04:59:50.010Z"
   },
   {
    "duration": 38880,
    "start_time": "2023-05-13T04:59:55.674Z"
   },
   {
    "duration": 24742,
    "start_time": "2023-05-13T05:00:34.562Z"
   },
   {
    "duration": 3284,
    "start_time": "2023-05-13T05:00:59.306Z"
   }
  ],
  "kernelspec": {
   "display_name": "Python 3 (ipykernel)",
   "language": "python",
   "name": "python3"
  },
  "language_info": {
   "codemirror_mode": {
    "name": "ipython",
    "version": 3
   },
   "file_extension": ".py",
   "mimetype": "text/x-python",
   "name": "python",
   "nbconvert_exporter": "python",
   "pygments_lexer": "ipython3",
   "version": "3.11.3"
  },
  "toc": {
   "base_numbering": 1,
   "nav_menu": {},
   "number_sections": true,
   "sideBar": true,
   "skip_h1_title": true,
   "title_cell": "Содержание",
   "title_sidebar": "Contents",
   "toc_cell": true,
   "toc_position": {
    "height": "calc(100% - 180px)",
    "left": "10px",
    "top": "150px",
    "width": "191px"
   },
   "toc_section_display": true,
   "toc_window_display": true
  }
 },
 "nbformat": 4,
 "nbformat_minor": 2
}

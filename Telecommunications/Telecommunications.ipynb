{
 "cells": [
  {
   "cell_type": "markdown",
   "metadata": {},
   "source": [
    "# Определение выгодного тарифа для телеком компании"
   ]
  },
  {
   "cell_type": "markdown",
   "metadata": {},
   "source": [
    "## Постановка задачи"
   ]
  },
  {
   "cell_type": "markdown",
   "metadata": {},
   "source": [
    "Заказчиком является оператор мобильной связи, который специализируется на предоставлении услуг связи для клиентов.\n",
    "\n",
    "Требуется на основе данных клиентов оператора сотовой связи проанализировать поведение клиентов и подготовить модель, которая бы могла предложить пользователям новый тариф: «Смарт» или «Ультра»\n",
    "\n",
    "Проверка модели должна осуществлятся на метрике accuracy. На тестовой выборке данная метрика должна быть не менее 0,75."
   ]
  },
  {
   "cell_type": "markdown",
   "metadata": {},
   "source": [
    "## Описание данных"
   ]
  },
  {
   "cell_type": "markdown",
   "metadata": {},
   "source": [
    "- **users_behavior.csv** - данные, хранящие в поведение клиентов"
   ]
  },
  {
   "cell_type": "markdown",
   "metadata": {},
   "source": [
    "**1) Подготовка**\n",
    "\n",
    "- Узнать размер данных\n",
    "\n",
    "**2) Анализ**\n",
    "- Проанализировать распределение параметров и целевого признака\n",
    "\n",
    "**3) Обучение моделей**\n",
    "\n",
    "- Выделение целевого признака\n",
    "- Разделение данных на обучающую и тестовую выборку\n",
    "- Подбор наилучших параметров методом кросс-валидации\n",
    "- Отбор наилучшей модели\n",
    "\n",
    "**4) Тестирование лучшей модели**\n",
    "\n",
    "- Протестировать модель на тестовой выборке с параметрами, которые были у обучающей модели\n",
    "- Сравнить метрику обучающей и тестовой модели\n",
    "- Проверить на сколько лучше или хуже полученная метрика в сравнении с требуемой"
   ]
  },
  {
   "cell_type": "markdown",
   "metadata": {},
   "source": [
    "## 1 Подготовка"
   ]
  },
  {
   "cell_type": "code",
   "execution_count": 1,
   "metadata": {},
   "outputs": [],
   "source": [
    "import pandas as pd\n",
    "import seaborn as sns\n",
    "import matplotlib.pyplot as plt\n",
    "from sklearn.tree import DecisionTreeClassifier\n",
    "from sklearn.ensemble import RandomForestClassifier \n",
    "from catboost import CatBoostClassifier\n",
    "from sklearn.model_selection import train_test_split\n",
    "from sklearn.metrics import accuracy_score\n",
    "from sklearn.experimental import enable_halving_search_cv\n",
    "from sklearn.model_selection import GridSearchCV, HalvingGridSearchCV\n",
    "from sklearn.dummy import DummyClassifier\n"
   ]
  },
  {
   "cell_type": "code",
   "execution_count": 2,
   "metadata": {},
   "outputs": [
    {
     "data": {
      "text/html": [
       "<div>\n",
       "<style scoped>\n",
       "    .dataframe tbody tr th:only-of-type {\n",
       "        vertical-align: middle;\n",
       "    }\n",
       "\n",
       "    .dataframe tbody tr th {\n",
       "        vertical-align: top;\n",
       "    }\n",
       "\n",
       "    .dataframe thead th {\n",
       "        text-align: right;\n",
       "    }\n",
       "</style>\n",
       "<table border=\"1\" class=\"dataframe\">\n",
       "  <thead>\n",
       "    <tr style=\"text-align: right;\">\n",
       "      <th></th>\n",
       "      <th>calls</th>\n",
       "      <th>minutes</th>\n",
       "      <th>messages</th>\n",
       "      <th>mb_used</th>\n",
       "      <th>is_ultra</th>\n",
       "    </tr>\n",
       "  </thead>\n",
       "  <tbody>\n",
       "    <tr>\n",
       "      <th>0</th>\n",
       "      <td>40.0</td>\n",
       "      <td>311.90</td>\n",
       "      <td>83.0</td>\n",
       "      <td>19915.42</td>\n",
       "      <td>0</td>\n",
       "    </tr>\n",
       "    <tr>\n",
       "      <th>1</th>\n",
       "      <td>85.0</td>\n",
       "      <td>516.75</td>\n",
       "      <td>56.0</td>\n",
       "      <td>22696.96</td>\n",
       "      <td>0</td>\n",
       "    </tr>\n",
       "    <tr>\n",
       "      <th>2</th>\n",
       "      <td>77.0</td>\n",
       "      <td>467.66</td>\n",
       "      <td>86.0</td>\n",
       "      <td>21060.45</td>\n",
       "      <td>0</td>\n",
       "    </tr>\n",
       "    <tr>\n",
       "      <th>3</th>\n",
       "      <td>106.0</td>\n",
       "      <td>745.53</td>\n",
       "      <td>81.0</td>\n",
       "      <td>8437.39</td>\n",
       "      <td>1</td>\n",
       "    </tr>\n",
       "    <tr>\n",
       "      <th>4</th>\n",
       "      <td>66.0</td>\n",
       "      <td>418.74</td>\n",
       "      <td>1.0</td>\n",
       "      <td>14502.75</td>\n",
       "      <td>0</td>\n",
       "    </tr>\n",
       "  </tbody>\n",
       "</table>\n",
       "</div>"
      ],
      "text/plain": [
       "   calls  minutes  messages   mb_used  is_ultra\n",
       "0   40.0   311.90      83.0  19915.42         0\n",
       "1   85.0   516.75      56.0  22696.96         0\n",
       "2   77.0   467.66      86.0  21060.45         0\n",
       "3  106.0   745.53      81.0   8437.39         1\n",
       "4   66.0   418.74       1.0  14502.75         0"
      ]
     },
     "execution_count": 2,
     "metadata": {},
     "output_type": "execute_result"
    }
   ],
   "source": [
    "df = pd.read_csv(r'C:\\Users\\Илья\\Downloads\\users_behavior.csv')\n",
    "df.head()"
   ]
  },
  {
   "cell_type": "code",
   "execution_count": 3,
   "metadata": {},
   "outputs": [
    {
     "data": {
      "text/plain": [
       "(3214, 5)"
      ]
     },
     "execution_count": 3,
     "metadata": {},
     "output_type": "execute_result"
    }
   ],
   "source": [
    "df.shape"
   ]
  },
  {
   "cell_type": "code",
   "execution_count": 4,
   "metadata": {},
   "outputs": [
    {
     "name": "stdout",
     "output_type": "stream",
     "text": [
      "<class 'pandas.core.frame.DataFrame'>\n",
      "RangeIndex: 3214 entries, 0 to 3213\n",
      "Data columns (total 5 columns):\n",
      " #   Column    Non-Null Count  Dtype  \n",
      "---  ------    --------------  -----  \n",
      " 0   calls     3214 non-null   float64\n",
      " 1   minutes   3214 non-null   float64\n",
      " 2   messages  3214 non-null   float64\n",
      " 3   mb_used   3214 non-null   float64\n",
      " 4   is_ultra  3214 non-null   int64  \n",
      "dtypes: float64(4), int64(1)\n",
      "memory usage: 125.7 KB\n"
     ]
    }
   ],
   "source": [
    "df.info()"
   ]
  },
  {
   "cell_type": "markdown",
   "metadata": {},
   "source": [
    "## Вывод"
   ]
  },
  {
   "cell_type": "markdown",
   "metadata": {},
   "source": [
    "- Размер данных 3214 на 5"
   ]
  },
  {
   "cell_type": "markdown",
   "metadata": {},
   "source": [
    "## 2 Анализ"
   ]
  },
  {
   "cell_type": "code",
   "execution_count": 5,
   "metadata": {},
   "outputs": [
    {
     "data": {
      "image/png": "[encoded data removed]",
      "text/plain": [
       "<Figure size 640x480 with 1 Axes>"
      ]
     },
     "metadata": {},
     "output_type": "display_data"
    }
   ],
   "source": [
    "sns.countplot(x='is_ultra', data=df)\n",
    "plt.title('График уникальных значений в столбце is_ultra')\n",
    "plt.ylabel('Кол-во')\n",
    "plt.show()\n"
   ]
  },
  {
   "cell_type": "code",
   "execution_count": 6,
   "metadata": {},
   "outputs": [
    {
     "data": {
      "image/png": "[encoded data removed]",
      "text/plain": [
       "<Figure size 640x480 with 1 Axes>"
      ]
     },
     "metadata": {},
     "output_type": "display_data"
    }
   ],
   "source": [
    "df['calls'].hist(bins=110)\n",
    "plt.title('Распределение звонков')\n",
    "plt.xlabel('Звонки')\n",
    "plt.ylabel('Кол-во');"
   ]
  },
  {
   "cell_type": "code",
   "execution_count": 7,
   "metadata": {},
   "outputs": [
    {
     "data": {
      "image/png": "[encoded data removed]",
      "text/plain": [
       "<Figure size 640x480 with 1 Axes>"
      ]
     },
     "metadata": {},
     "output_type": "display_data"
    }
   ],
   "source": [
    "df['minutes'].hist(bins=120)\n",
    "plt.title('Распределение минут')\n",
    "plt.xlabel('Минуты')\n",
    "plt.ylabel('Кол-во');"
   ]
  },
  {
   "cell_type": "code",
   "execution_count": 8,
   "metadata": {},
   "outputs": [
    {
     "data": {
      "image/png": "[encoded data removed]",
      "text/plain": [
       "<Figure size 640x480 with 1 Axes>"
      ]
     },
     "metadata": {},
     "output_type": "display_data"
    }
   ],
   "source": [
    "df['messages'].hist(bins=50)\n",
    "plt.title('Распределение сообщений')\n",
    "plt.xlabel('Сообщения')\n",
    "plt.ylabel('Кол-во');"
   ]
  },
  {
   "cell_type": "code",
   "execution_count": 9,
   "metadata": {},
   "outputs": [
    {
     "data": {
      "image/png": "[encoded data removed]",
      "text/plain": [
       "<Figure size 640x480 with 1 Axes>"
      ]
     },
     "metadata": {},
     "output_type": "display_data"
    }
   ],
   "source": [
    "df['mb_used'].hist(bins=120)\n",
    "plt.title('Распределение мегабайт')\n",
    "plt.xlabel('Мегабайты')\n",
    "plt.ylabel('Кол-во');"
   ]
  },
  {
   "cell_type": "markdown",
   "metadata": {},
   "source": [
    "## Вывод"
   ]
  },
  {
   "cell_type": "markdown",
   "metadata": {},
   "source": [
    "- Заметно преобладание тарифа **Смарт** примерно в два раза. Скорее всего это из за того, что при поиощи данного тарифа можно закрыт базовые портебности в связи\n",
    "- Заметно, что чаще всего совершаю наибольшее кол-во звонков в диапазоне от 20 до 100 раз в месяц\n",
    "- Заметно, что больше всего люди разговаривают от 170 до 750 минут в месяц\n",
    "- Клиенты почти не пользуются сообщениями.\n",
    "- Чаще всего клиентам достаточно в районе от 10000 до 25000 мегабайт в месяц"
   ]
  },
  {
   "cell_type": "markdown",
   "metadata": {},
   "source": [
    "## Обучение модели"
   ]
  },
  {
   "cell_type": "code",
   "execution_count": 10,
   "metadata": {},
   "outputs": [],
   "source": [
    "features = df.drop('is_ultra', axis=1)\n",
    "target = df['is_ultra']"
   ]
  },
  {
   "cell_type": "code",
   "execution_count": 11,
   "metadata": {},
   "outputs": [],
   "source": [
    "f_train, f_test, t_train, t_test = train_test_split(features, target,\\\n",
    "                                                    test_size=0.25, random_state=12345, shuffle=True)"
   ]
  },
  {
   "cell_type": "code",
   "execution_count": 12,
   "metadata": {},
   "outputs": [
    {
     "data": {
      "text/plain": [
       "((2410, 4), (804, 4), (2410,), (804,))"
      ]
     },
     "execution_count": 12,
     "metadata": {},
     "output_type": "execute_result"
    }
   ],
   "source": [
    "f_train.shape, f_test.shape, t_train.shape, t_test.shape"
   ]
  },
  {
   "cell_type": "markdown",
   "metadata": {},
   "source": [
    "## CatBoostClassifier"
   ]
  },
  {
   "cell_type": "code",
   "execution_count": 13,
   "metadata": {},
   "outputs": [
    {
     "name": "stdout",
     "output_type": "stream",
     "text": [
      "Learning rate set to 0.005477\n",
      "0:\tlearn: 0.6908436\ttotal: 139ms\tremaining: 6m 55s\n",
      "200:\tlearn: 0.4904170\ttotal: 763ms\tremaining: 10.6s\n",
      "400:\tlearn: 0.4474113\ttotal: 1.4s\tremaining: 9.07s\n",
      "600:\tlearn: 0.4277912\ttotal: 2.03s\tremaining: 8.09s\n",
      "800:\tlearn: 0.4154650\ttotal: 2.66s\tremaining: 7.3s\n",
      "1000:\tlearn: 0.4062844\ttotal: 3.28s\tremaining: 6.56s\n",
      "1200:\tlearn: 0.3982179\ttotal: 3.91s\tremaining: 5.85s\n",
      "1400:\tlearn: 0.3905194\ttotal: 4.53s\tremaining: 5.17s\n",
      "1600:\tlearn: 0.3828328\ttotal: 5.19s\tremaining: 4.53s\n",
      "1800:\tlearn: 0.3745039\ttotal: 5.86s\tremaining: 3.9s\n",
      "2000:\tlearn: 0.3668621\ttotal: 6.5s\tremaining: 3.24s\n",
      "2200:\tlearn: 0.3588800\ttotal: 7.14s\tremaining: 2.59s\n",
      "2400:\tlearn: 0.3518367\ttotal: 7.78s\tremaining: 1.94s\n",
      "2600:\tlearn: 0.3440888\ttotal: 8.43s\tremaining: 1.29s\n",
      "2800:\tlearn: 0.3371737\ttotal: 9.07s\tremaining: 644ms\n",
      "2999:\tlearn: 0.3305195\ttotal: 9.71s\tremaining: 0us\n",
      "{'max_depth': 5, 'n_estimators': 3000}\n",
      "0.8203319502074689\n",
      "CPU times: total: 1min 5s\n",
      "Wall time: 16.8 s\n"
     ]
    }
   ],
   "source": [
    "%%time\n",
    "model = CatBoostClassifier()\n",
    "params = {\n",
    "    'n_estimators': [3000], # првоерял так же значения от 500 до 3500 с шагом в 500\n",
    "    'max_depth': [5], # проверял так же значения от 2 до 5\n",
    "}\n",
    "grid_search = GridSearchCV(model, params, cv=10, scoring='accuracy', n_jobs=-1)\n",
    "grid_search.fit(f_train, t_train, verbose=200)\n",
    "\n",
    "\n",
    "print(grid_search.best_params_)\n",
    "print(grid_search.best_score_)"
   ]
  },
  {
   "cell_type": "code",
   "execution_count": 14,
   "metadata": {},
   "outputs": [],
   "source": [
    "best_cat = grid_search.best_params_"
   ]
  },
  {
   "cell_type": "code",
   "execution_count": 15,
   "metadata": {},
   "outputs": [
    {
     "name": "stdout",
     "output_type": "stream",
     "text": [
      "CPU times: total: 0 ns\n",
      "Wall time: 0 ns\n",
      "{'max_depth': 10}\n",
      "0.7933609958506225\n"
     ]
    }
   ],
   "source": [
    "%time\n",
    "model = DecisionTreeClassifier()\n",
    "params = {\n",
    "    'max_depth' : [2,4,6,8,10]       \n",
    "}\n",
    "\n",
    "grid_tree = GridSearchCV(model, params, cv=10, scoring='accuracy', n_jobs=-1)\n",
    "grid_tree.fit(f_train, t_train)\n",
    "\n",
    "print(grid_tree.best_params_)\n",
    "print(grid_tree.best_score_)"
   ]
  },
  {
   "cell_type": "code",
   "execution_count": 16,
   "metadata": {},
   "outputs": [],
   "source": [
    "best_tree = grid_tree.best_params_"
   ]
  },
  {
   "cell_type": "code",
   "execution_count": 17,
   "metadata": {},
   "outputs": [
    {
     "name": "stdout",
     "output_type": "stream",
     "text": [
      "CPU times: total: 0 ns\n",
      "Wall time: 0 ns\n",
      "{'max_depth': 10, 'n_estimators': 20}\n",
      "0.8195020746887967\n"
     ]
    }
   ],
   "source": [
    "%time\n",
    "model = RandomForestClassifier()\n",
    "params = {\n",
    "    'max_depth' : [2,4,6,8,10],\n",
    "    'n_estimators' : [5,10,15,20,30,40]\n",
    "}\n",
    "\n",
    "grid_forest = GridSearchCV(model, params, cv=10, scoring='accuracy', n_jobs=-1)\n",
    "grid_forest.fit(f_train, t_train)\n",
    "\n",
    "print(grid_forest.best_params_)\n",
    "print(grid_forest.best_score_)"
   ]
  },
  {
   "cell_type": "code",
   "execution_count": 18,
   "metadata": {},
   "outputs": [],
   "source": [
    "best_forest = grid_forest.best_params_"
   ]
  },
  {
   "cell_type": "markdown",
   "metadata": {},
   "source": [
    "## Вывод"
   ]
  },
  {
   "cell_type": "markdown",
   "metadata": {},
   "source": [
    "- По результатам обучения моделей для проверки была выбрана модель CatBoostClassifier. При параметрах iterations: 3000, max_depth: 5 она показала наилучшую метрику **accuracy: 0.82**"
   ]
  },
  {
   "cell_type": "markdown",
   "metadata": {},
   "source": [
    "## Тестирование лучшей модели"
   ]
  },
  {
   "cell_type": "code",
   "execution_count": 19,
   "metadata": {},
   "outputs": [
    {
     "name": "stdout",
     "output_type": "stream",
     "text": [
      "Learning rate set to 0.005477\n",
      "0:\tlearn: 0.6908436\ttotal: 2.93ms\tremaining: 8.78s\n",
      "1000:\tlearn: 0.4062844\ttotal: 3.28s\tremaining: 6.55s\n",
      "2000:\tlearn: 0.3668621\ttotal: 6.47s\tremaining: 3.23s\n",
      "2999:\tlearn: 0.3305195\ttotal: 9.77s\tremaining: 0us\n",
      "accuracy: 0.7947761194029851\n",
      "CPU times: total: 1min 6s\n",
      "Wall time: 9.97 s\n"
     ]
    }
   ],
   "source": [
    "%%time\n",
    "model = CatBoostClassifier(**best_cat).fit(f_train, t_train, verbose=1000)\n",
    "predict = model.predict(f_test)\n",
    "print('accuracy:', accuracy_score(t_test, predict))"
   ]
  },
  {
   "cell_type": "code",
   "execution_count": 20,
   "metadata": {},
   "outputs": [
    {
     "data": {
      "image/png": "[encoded data removed]",
      "text/plain": [
       "<Figure size 1000x500 with 1 Axes>"
      ]
     },
     "metadata": {},
     "output_type": "display_data"
    }
   ],
   "source": [
    "feature_imp = pd.Series(model.feature_importances_, index=f_test.columns).sort_values(ascending=False)\n",
    "      \n",
    "fig, ax = plt.subplots(figsize=(10,5))\n",
    "feature_imp.plot.bar(ax=ax)\n",
    "_ = ax.set_title('Оценка важности признаков')\n",
    "_ = ax.set_ylabel('Признаки')\n",
    "fig.tight_layout()"
   ]
  },
  {
   "cell_type": "markdown",
   "metadata": {},
   "source": [
    "По графику важности признаков можно заметить, что все признаки имеют значимый вес для обучния"
   ]
  },
  {
   "cell_type": "code",
   "execution_count": 21,
   "metadata": {},
   "outputs": [
    {
     "name": "stdout",
     "output_type": "stream",
     "text": [
      "accuracy: 0.7002487562189055\n"
     ]
    }
   ],
   "source": [
    "model = DummyClassifier(strategy=\"most_frequent\").fit(f_train, t_train)\n",
    "pred = model.predict(f_test)\n",
    "print('accuracy:', accuracy_score(t_test, pred))\n"
   ]
  },
  {
   "cell_type": "markdown",
   "metadata": {},
   "source": [
    "# Отчет"
   ]
  },
  {
   "cell_type": "markdown",
   "metadata": {},
   "source": [
    "**1) Подготовка**\n",
    "\n",
    "- Размер данных 3214 на 5\n",
    "\n",
    "**2) Анализ**\n",
    "\n",
    "- Заметно преобладание тарифа **Смарт** примерно в два раза. Скорее всего это из за того, что при поиощи данного тарифа можно закрыт базовые портебности в связи\n",
    "- Заметно, что чаще всего совершаю наибольшее кол-во звонков в диапазоне от 20 до 100 раз в месяц\n",
    "- Заметно, что больше всего люди разговаривают от 170 до 750 минут в месяц\n",
    "- Клиенты почти не пользуются сообщениями.\n",
    "- Чаще всего клиентам достаточно в районе от 10000 до 25000 мегабайт в месяц\n",
    "\n",
    "**3) Обучение модели**\n",
    "\n",
    "- По результатам обучения моделей для проверки была выбрана модель CatBoostClassifier. При параметрах iterations: 3000, max_depth: 5 она показала наилучшую метрику **accuracy: 0.82**\n",
    "\n",
    "**4) Тестирование лучшей модели**\n",
    "- На тестовой выборке модель показала значение метрики **accuracy : 0.79**\n",
    "- По графику важности признаков можно заметить, что все признаки имеют значимый вес для обучния\n",
    "- Была сделана проверка модели на адекватность при помощи константной модели. Показатели константной модели составил **accuracy: 0.7**. По результатам модель проходит проверку на адекватность"
   ]
  }
 ],
 "metadata": {
  "ExecuteTimeLog": [
   {
    "duration": 1417,
    "start_time": "2023-02-17T06:58:24.343Z"
   },
   {
    "duration": 32,
    "start_time": "2023-02-17T06:59:23.252Z"
   },
   {
    "duration": 40,
    "start_time": "2023-02-17T06:59:37.821Z"
   },
   {
    "duration": 4,
    "start_time": "2023-02-17T06:59:39.379Z"
   },
   {
    "duration": 158,
    "start_time": "2023-02-17T07:13:20.876Z"
   },
   {
    "duration": 14,
    "start_time": "2023-02-17T07:13:27.603Z"
   },
   {
    "duration": 18,
    "start_time": "2023-02-17T07:13:29.043Z"
   },
   {
    "duration": 121,
    "start_time": "2023-02-17T07:13:38.235Z"
   },
   {
    "duration": 273,
    "start_time": "2023-02-17T07:16:25.883Z"
   },
   {
    "duration": 202,
    "start_time": "2023-02-17T07:17:00.071Z"
   },
   {
    "duration": 13,
    "start_time": "2023-02-17T07:17:06.896Z"
   },
   {
    "duration": 202,
    "start_time": "2023-02-17T07:17:09.252Z"
   },
   {
    "duration": 1320,
    "start_time": "2023-02-17T07:17:14.555Z"
   },
   {
    "duration": 4,
    "start_time": "2023-02-17T07:17:15.877Z"
   },
   {
    "duration": 9,
    "start_time": "2023-02-17T07:17:15.883Z"
   },
   {
    "duration": 192,
    "start_time": "2023-02-17T07:17:15.894Z"
   },
   {
    "duration": 1423,
    "start_time": "2023-02-17T07:20:25.658Z"
   },
   {
    "duration": 5,
    "start_time": "2023-02-17T07:20:27.083Z"
   },
   {
    "duration": 45,
    "start_time": "2023-02-17T07:20:27.090Z"
   },
   {
    "duration": 271,
    "start_time": "2023-02-17T07:20:27.138Z"
   },
   {
    "duration": 228,
    "start_time": "2023-02-17T07:22:33.933Z"
   },
   {
    "duration": 188,
    "start_time": "2023-02-17T07:23:56.786Z"
   },
   {
    "duration": 17,
    "start_time": "2023-02-17T07:24:40.360Z"
   },
   {
    "duration": 17,
    "start_time": "2023-02-17T07:24:48.360Z"
   },
   {
    "duration": 25,
    "start_time": "2023-02-17T07:25:00.948Z"
   },
   {
    "duration": 44,
    "start_time": "2023-02-17T07:25:24.049Z"
   },
   {
    "duration": 1435,
    "start_time": "2023-02-17T07:25:27.958Z"
   },
   {
    "duration": 3,
    "start_time": "2023-02-17T07:25:29.395Z"
   },
   {
    "duration": 80,
    "start_time": "2023-02-17T07:25:29.399Z"
   },
   {
    "duration": 265,
    "start_time": "2023-02-17T07:25:29.480Z"
   },
   {
    "duration": 235,
    "start_time": "2023-02-17T07:29:14.133Z"
   },
   {
    "duration": 1130,
    "start_time": "2023-02-18T09:09:13.530Z"
   },
   {
    "duration": 3,
    "start_time": "2023-02-18T09:09:14.662Z"
   },
   {
    "duration": 10,
    "start_time": "2023-02-18T09:09:14.666Z"
   },
   {
    "duration": 47,
    "start_time": "2023-02-18T09:09:14.677Z"
   },
   {
    "duration": 1115,
    "start_time": "2023-02-18T09:09:24.720Z"
   },
   {
    "duration": 4,
    "start_time": "2023-02-18T09:09:25.837Z"
   },
   {
    "duration": 11,
    "start_time": "2023-02-18T09:09:25.842Z"
   },
   {
    "duration": 115,
    "start_time": "2023-02-18T09:09:25.854Z"
   },
   {
    "duration": 16,
    "start_time": "2023-02-18T09:10:41.266Z"
   },
   {
    "duration": 14,
    "start_time": "2023-02-18T09:11:39.468Z"
   },
   {
    "duration": 181,
    "start_time": "2023-02-18T09:13:18.102Z"
   },
   {
    "duration": 149,
    "start_time": "2023-02-18T09:15:37.372Z"
   },
   {
    "duration": 148,
    "start_time": "2023-02-18T09:15:45.197Z"
   },
   {
    "duration": 146,
    "start_time": "2023-02-18T09:16:32.870Z"
   },
   {
    "duration": 1079,
    "start_time": "2023-02-18T09:17:22.957Z"
   },
   {
    "duration": 5,
    "start_time": "2023-02-18T09:17:24.038Z"
   },
   {
    "duration": 10,
    "start_time": "2023-02-18T09:17:24.045Z"
   },
   {
    "duration": 174,
    "start_time": "2023-02-18T09:17:24.057Z"
   },
   {
    "duration": 100,
    "start_time": "2023-02-18T09:20:12.921Z"
   },
   {
    "duration": 17590,
    "start_time": "2023-02-18T09:20:32.099Z"
   },
   {
    "duration": 1111,
    "start_time": "2023-02-18T09:23:28.612Z"
   },
   {
    "duration": 4,
    "start_time": "2023-02-18T09:23:29.725Z"
   },
   {
    "duration": 10,
    "start_time": "2023-02-18T09:23:29.730Z"
   },
   {
    "duration": 153,
    "start_time": "2023-02-18T09:23:29.741Z"
   },
   {
    "duration": 50,
    "start_time": "2023-02-18T09:23:29.896Z"
   },
   {
    "duration": 13578,
    "start_time": "2023-02-18T09:23:39.340Z"
   },
   {
    "duration": 1531,
    "start_time": "2023-02-18T09:24:32.699Z"
   },
   {
    "duration": 1547,
    "start_time": "2023-02-18T09:27:54.516Z"
   },
   {
    "duration": 13900,
    "start_time": "2023-02-18T09:28:40.973Z"
   },
   {
    "duration": 33,
    "start_time": "2023-02-18T09:29:27.648Z"
   },
   {
    "duration": 1039,
    "start_time": "2023-02-18T09:29:31.065Z"
   },
   {
    "duration": 4,
    "start_time": "2023-02-18T09:29:32.106Z"
   },
   {
    "duration": 11,
    "start_time": "2023-02-18T09:29:32.112Z"
   },
   {
    "duration": 152,
    "start_time": "2023-02-18T09:29:32.125Z"
   },
   {
    "duration": 13703,
    "start_time": "2023-02-18T09:29:32.278Z"
   },
   {
    "duration": 33,
    "start_time": "2023-02-18T09:33:34.231Z"
   },
   {
    "duration": 1024,
    "start_time": "2023-02-18T09:33:43.697Z"
   },
   {
    "duration": 4,
    "start_time": "2023-02-18T09:33:44.722Z"
   },
   {
    "duration": 11,
    "start_time": "2023-02-18T09:33:44.727Z"
   },
   {
    "duration": 149,
    "start_time": "2023-02-18T09:33:44.740Z"
   },
   {
    "duration": 13745,
    "start_time": "2023-02-18T09:33:44.891Z"
   },
   {
    "duration": 33,
    "start_time": "2023-02-18T09:33:58.638Z"
   },
   {
    "duration": 1076,
    "start_time": "2023-02-18T09:34:04.846Z"
   },
   {
    "duration": 3,
    "start_time": "2023-02-18T09:34:05.924Z"
   },
   {
    "duration": 18,
    "start_time": "2023-02-18T09:34:05.928Z"
   },
   {
    "duration": 131,
    "start_time": "2023-02-18T09:34:05.948Z"
   },
   {
    "duration": 0,
    "start_time": "2023-02-18T09:34:06.081Z"
   },
   {
    "duration": 0,
    "start_time": "2023-02-18T09:34:06.082Z"
   },
   {
    "duration": 1086,
    "start_time": "2023-02-18T09:34:15.431Z"
   },
   {
    "duration": 4,
    "start_time": "2023-02-18T09:34:16.519Z"
   },
   {
    "duration": 10,
    "start_time": "2023-02-18T09:34:16.524Z"
   },
   {
    "duration": 32,
    "start_time": "2023-02-18T09:34:16.535Z"
   },
   {
    "duration": 159,
    "start_time": "2023-02-18T09:34:16.569Z"
   },
   {
    "duration": 14036,
    "start_time": "2023-02-18T09:34:16.729Z"
   },
   {
    "duration": 1092,
    "start_time": "2023-02-18T09:38:16.731Z"
   },
   {
    "duration": 4,
    "start_time": "2023-02-18T09:38:17.825Z"
   },
   {
    "duration": 11,
    "start_time": "2023-02-18T09:38:17.830Z"
   },
   {
    "duration": 147,
    "start_time": "2023-02-18T09:38:17.843Z"
   },
   {
    "duration": 13948,
    "start_time": "2023-02-18T09:38:17.992Z"
   },
   {
    "duration": 33,
    "start_time": "2023-02-18T09:38:31.943Z"
   },
   {
    "duration": 1078,
    "start_time": "2023-02-18T09:44:26.274Z"
   },
   {
    "duration": 4,
    "start_time": "2023-02-18T09:44:27.353Z"
   },
   {
    "duration": 9,
    "start_time": "2023-02-18T09:44:27.358Z"
   },
   {
    "duration": 33,
    "start_time": "2023-02-18T09:44:27.369Z"
   },
   {
    "duration": 14066,
    "start_time": "2023-02-18T09:44:27.404Z"
   },
   {
    "duration": 153,
    "start_time": "2023-02-18T09:44:41.472Z"
   },
   {
    "duration": 1114,
    "start_time": "2023-02-18T09:47:57.222Z"
   },
   {
    "duration": 3,
    "start_time": "2023-02-18T09:47:58.338Z"
   },
   {
    "duration": 11,
    "start_time": "2023-02-18T09:47:58.343Z"
   },
   {
    "duration": 33,
    "start_time": "2023-02-18T09:47:58.355Z"
   },
   {
    "duration": 187,
    "start_time": "2023-02-18T09:47:58.390Z"
   },
   {
    "duration": 181,
    "start_time": "2023-02-18T09:47:58.579Z"
   },
   {
    "duration": 29,
    "start_time": "2023-02-18T09:49:28.883Z"
   },
   {
    "duration": 29,
    "start_time": "2023-02-18T09:50:07.257Z"
   },
   {
    "duration": 1069,
    "start_time": "2023-02-18T09:53:54.672Z"
   },
   {
    "duration": 7,
    "start_time": "2023-02-18T09:53:55.743Z"
   },
   {
    "duration": 29,
    "start_time": "2023-02-18T09:53:55.751Z"
   },
   {
    "duration": 29,
    "start_time": "2023-02-18T09:53:55.782Z"
   },
   {
    "duration": 168,
    "start_time": "2023-02-18T09:53:55.813Z"
   },
   {
    "duration": 175,
    "start_time": "2023-02-18T09:53:55.983Z"
   },
   {
    "duration": 31,
    "start_time": "2023-02-18T09:53:56.160Z"
   },
   {
    "duration": 1058,
    "start_time": "2023-02-18T09:54:30.659Z"
   },
   {
    "duration": 3,
    "start_time": "2023-02-18T09:54:31.719Z"
   },
   {
    "duration": 13,
    "start_time": "2023-02-18T09:54:31.724Z"
   },
   {
    "duration": 32,
    "start_time": "2023-02-18T09:54:31.739Z"
   },
   {
    "duration": 146,
    "start_time": "2023-02-18T09:54:31.773Z"
   },
   {
    "duration": 13823,
    "start_time": "2023-02-18T09:54:31.920Z"
   },
   {
    "duration": 28,
    "start_time": "2023-02-18T09:54:45.745Z"
   },
   {
    "duration": 1092,
    "start_time": "2023-02-18T09:55:06.000Z"
   },
   {
    "duration": 5,
    "start_time": "2023-02-18T09:55:07.094Z"
   },
   {
    "duration": 11,
    "start_time": "2023-02-18T09:55:07.100Z"
   },
   {
    "duration": 28,
    "start_time": "2023-02-18T09:55:07.114Z"
   },
   {
    "duration": 178,
    "start_time": "2023-02-18T09:55:07.143Z"
   },
   {
    "duration": 9183,
    "start_time": "2023-02-18T09:55:07.323Z"
   },
   {
    "duration": 137,
    "start_time": "2023-02-18T09:55:16.507Z"
   },
   {
    "duration": 1039,
    "start_time": "2023-02-18T10:18:39.388Z"
   },
   {
    "duration": 3,
    "start_time": "2023-02-18T10:18:40.429Z"
   },
   {
    "duration": 11,
    "start_time": "2023-02-18T10:18:40.434Z"
   },
   {
    "duration": 24,
    "start_time": "2023-02-18T10:18:40.447Z"
   },
   {
    "duration": 65,
    "start_time": "2023-02-18T10:18:40.472Z"
   },
   {
    "duration": 415,
    "start_time": "2023-02-18T10:18:40.539Z"
   },
   {
    "duration": 139,
    "start_time": "2023-02-18T10:18:40.956Z"
   },
   {
    "duration": 37,
    "start_time": "2023-02-18T10:18:58.710Z"
   },
   {
    "duration": 33,
    "start_time": "2023-02-18T10:20:07.875Z"
   },
   {
    "duration": 5,
    "start_time": "2023-02-18T10:27:04.245Z"
   },
   {
    "duration": 8,
    "start_time": "2023-02-18T10:27:29.083Z"
   },
   {
    "duration": 1071,
    "start_time": "2023-02-18T10:32:40.959Z"
   },
   {
    "duration": 4,
    "start_time": "2023-02-18T10:32:42.032Z"
   },
   {
    "duration": 10,
    "start_time": "2023-02-18T10:32:42.037Z"
   },
   {
    "duration": 26,
    "start_time": "2023-02-18T10:32:42.049Z"
   },
   {
    "duration": 73,
    "start_time": "2023-02-18T10:32:42.077Z"
   },
   {
    "duration": 486,
    "start_time": "2023-02-18T10:32:42.152Z"
   },
   {
    "duration": 38,
    "start_time": "2023-02-18T10:32:42.639Z"
   },
   {
    "duration": 6,
    "start_time": "2023-02-18T10:32:42.679Z"
   },
   {
    "duration": 1740,
    "start_time": "2023-02-18T10:41:42.418Z"
   },
   {
    "duration": 4,
    "start_time": "2023-02-18T10:41:44.160Z"
   },
   {
    "duration": 19,
    "start_time": "2023-02-18T10:41:44.165Z"
   },
   {
    "duration": 30,
    "start_time": "2023-02-18T10:41:44.186Z"
   },
   {
    "duration": 60,
    "start_time": "2023-02-18T10:41:44.217Z"
   },
   {
    "duration": 439,
    "start_time": "2023-02-18T10:41:44.278Z"
   },
   {
    "duration": 33,
    "start_time": "2023-02-18T10:41:44.718Z"
   },
   {
    "duration": 6,
    "start_time": "2023-02-18T10:41:44.752Z"
   },
   {
    "duration": 1703,
    "start_time": "2023-02-18T10:41:54.184Z"
   },
   {
    "duration": 3,
    "start_time": "2023-02-18T10:41:55.889Z"
   },
   {
    "duration": 19,
    "start_time": "2023-02-18T10:41:55.894Z"
   },
   {
    "duration": 20,
    "start_time": "2023-02-18T10:41:55.915Z"
   },
   {
    "duration": 58,
    "start_time": "2023-02-18T10:41:55.936Z"
   },
   {
    "duration": 455,
    "start_time": "2023-02-18T10:41:55.996Z"
   },
   {
    "duration": 32,
    "start_time": "2023-02-18T10:41:56.453Z"
   },
   {
    "duration": 6,
    "start_time": "2023-02-18T10:41:56.486Z"
   },
   {
    "duration": 4,
    "start_time": "2023-02-18T10:46:13.611Z"
   },
   {
    "duration": 4,
    "start_time": "2023-02-18T10:46:24.656Z"
   },
   {
    "duration": 1016,
    "start_time": "2023-02-18T11:27:27.772Z"
   },
   {
    "duration": 40,
    "start_time": "2023-02-18T11:27:28.790Z"
   },
   {
    "duration": 3,
    "start_time": "2023-02-18T11:27:28.832Z"
   },
   {
    "duration": 11,
    "start_time": "2023-02-18T11:27:28.837Z"
   },
   {
    "duration": 10,
    "start_time": "2023-02-18T11:27:28.849Z"
   },
   {
    "duration": 29,
    "start_time": "2023-02-18T11:27:28.861Z"
   },
   {
    "duration": 64,
    "start_time": "2023-02-18T11:27:28.891Z"
   },
   {
    "duration": 420,
    "start_time": "2023-02-18T11:27:28.957Z"
   },
   {
    "duration": 35,
    "start_time": "2023-02-18T11:27:29.379Z"
   },
   {
    "duration": 6,
    "start_time": "2023-02-18T11:27:29.416Z"
   },
   {
    "duration": 90,
    "start_time": "2023-02-18T11:29:20.149Z"
   },
   {
    "duration": 1120,
    "start_time": "2023-02-18T11:29:30.022Z"
   },
   {
    "duration": 46,
    "start_time": "2023-02-18T11:29:31.144Z"
   },
   {
    "duration": 3,
    "start_time": "2023-02-18T11:29:31.192Z"
   },
   {
    "duration": 16,
    "start_time": "2023-02-18T11:29:31.197Z"
   },
   {
    "duration": 22,
    "start_time": "2023-02-18T11:29:31.215Z"
   },
   {
    "duration": 100,
    "start_time": "2023-02-18T11:29:31.239Z"
   },
   {
    "duration": 0,
    "start_time": "2023-02-18T11:29:31.341Z"
   },
   {
    "duration": 1,
    "start_time": "2023-02-18T11:29:31.342Z"
   },
   {
    "duration": 0,
    "start_time": "2023-02-18T11:29:31.344Z"
   },
   {
    "duration": 0,
    "start_time": "2023-02-18T11:29:31.346Z"
   },
   {
    "duration": 0,
    "start_time": "2023-02-18T11:29:31.348Z"
   },
   {
    "duration": 8,
    "start_time": "2023-02-18T11:29:47.993Z"
   },
   {
    "duration": 4,
    "start_time": "2023-02-18T11:30:31.168Z"
   },
   {
    "duration": 25,
    "start_time": "2023-02-18T11:32:05.458Z"
   },
   {
    "duration": 1066,
    "start_time": "2023-02-18T11:32:11.981Z"
   },
   {
    "duration": 38,
    "start_time": "2023-02-18T11:32:13.050Z"
   },
   {
    "duration": 4,
    "start_time": "2023-02-18T11:32:13.090Z"
   },
   {
    "duration": 13,
    "start_time": "2023-02-18T11:32:13.096Z"
   },
   {
    "duration": 9,
    "start_time": "2023-02-18T11:32:13.111Z"
   },
   {
    "duration": 3,
    "start_time": "2023-02-18T11:32:13.122Z"
   },
   {
    "duration": 33,
    "start_time": "2023-02-18T11:32:13.127Z"
   },
   {
    "duration": 55,
    "start_time": "2023-02-18T11:32:13.161Z"
   },
   {
    "duration": 445,
    "start_time": "2023-02-18T11:32:13.217Z"
   },
   {
    "duration": 32,
    "start_time": "2023-02-18T11:32:13.664Z"
   },
   {
    "duration": 6,
    "start_time": "2023-02-18T11:32:13.698Z"
   },
   {
    "duration": 1090,
    "start_time": "2023-02-18T11:34:15.920Z"
   },
   {
    "duration": 38,
    "start_time": "2023-02-18T11:34:17.012Z"
   },
   {
    "duration": 3,
    "start_time": "2023-02-18T11:34:17.052Z"
   },
   {
    "duration": 11,
    "start_time": "2023-02-18T11:34:17.058Z"
   },
   {
    "duration": 9,
    "start_time": "2023-02-18T11:34:17.070Z"
   },
   {
    "duration": 6,
    "start_time": "2023-02-18T11:34:17.081Z"
   },
   {
    "duration": 54,
    "start_time": "2023-02-18T11:34:17.089Z"
   },
   {
    "duration": 62,
    "start_time": "2023-02-18T11:34:17.145Z"
   },
   {
    "duration": 441,
    "start_time": "2023-02-18T11:34:17.209Z"
   },
   {
    "duration": 31,
    "start_time": "2023-02-18T11:34:17.652Z"
   },
   {
    "duration": 6,
    "start_time": "2023-02-18T11:34:17.684Z"
   }
  ],
  "kernelspec": {
   "display_name": "Python 3 (ipykernel)",
   "language": "python",
   "name": "python3"
  },
  "language_info": {
   "codemirror_mode": {
    "name": "ipython",
    "version": 3
   },
   "file_extension": ".py",
   "mimetype": "text/x-python",
   "name": "python",
   "nbconvert_exporter": "python",
   "pygments_lexer": "ipython3",
   "version": "3.11.3"
  },
  "toc": {
   "base_numbering": 1,
   "nav_menu": {},
   "number_sections": true,
   "sideBar": true,
   "skip_h1_title": true,
   "title_cell": "Table of Contents",
   "title_sidebar": "Contents",
   "toc_cell": false,
   "toc_position": {},
   "toc_section_display": true,
   "toc_window_display": false
  }
 },
 "nbformat": 4,
 "nbformat_minor": 2
}
